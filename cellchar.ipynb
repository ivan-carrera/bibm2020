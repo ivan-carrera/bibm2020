{
 "cells": [
  {
   "cell_type": "markdown",
   "metadata": {},
   "source": [
    "# CellChar: A SVM-based characterization method for cellular lines using text processing\n",
    "\n",
    "## Iván Carrera, Eduardo Tejera, and Inês Dutra\n",
    "### Departamento de Informática y Ciencias de la Computación, Escuela Politécnica Nacional. Quito, Ecuador.\n",
    "### Departamento de Ciencia de Computadores, Universidade do Porto, Portugal.\n",
    "### Grupo de Quimio-Bioinformática, Universidad de Las Américas. Quito, Ecuador.\n",
    "\n",
    "### Programa de Doutoramento em Ciência de Computadores FCUP.\n",
    "\n",
    "#### Characterizing Cellular lines\n",
    "The goal of this work is to characterize cellular lines from processing the related scientific literature\n",
    "\n",
    "##### Web mining\n",
    "There are two main source databases for cellular lines: [Cellosaurus](https://web.expasy.org/cellosaurus/)\n",
    "and [ChEMBL](https://www.ebi.ac.uk/chembl/).\n",
    "First of all, we have to identify the cellular lines. File contains a list of cellular lines, with their synonyms"
   ]
  },
  {
   "cell_type": "markdown",
   "metadata": {},
   "source": [
    "Processing Cellosaurus v34"
   ]
  },
  {
   "cell_type": "code",
   "execution_count": 1,
   "metadata": {
    "pycharm": {
     "name": "#%%\n"
    }
   },
   "outputs": [
    {
     "name": "stdout",
     "output_type": "stream",
     "text": [
      "Cellosaurus file: data/cellosaurus/cellosaurus.xml\n",
      "  <accession-list>\n",
      "    <accession type=\"primary\">CVCL_KA96</accession>\n",
      "  </accession-list>\n",
      "  <name-list>\n",
      "    <name type=\"identifier\">#16-15</name>\n",
      "  </name-list>\n",
      "  <comment-list>\n",
      "    <comment category=\"Monoclonal antibody target\">\n",
      "      <xref-list>\n",
      "        <xref database=\"UniProtKB\" category=\"Sequence databases\" accession=\"Q5T5X7\">\n",
      "          <property-list>\n",
      "            <property name=\"gene/protein designation\" value=\"Human BEND3\"/>\n",
      "          </property-list>\n",
      "          <url><![CDATA[https://www.uniprot.org/uniprot/Q5T5X7]]></url>\n",
      "        </xref>\n",
      "      </xref-list>\n",
      "    </comment>\n",
      "    <comment category=\"Monoclonal antibody isotype\"> IgM </comment>\n",
      "  </comment-list>\n",
      "  <species-list>\n",
      "    <cv-term terminology=\"NCBI-Taxonomy\" accession=\"10090\">Mus musculus</cv-term>\n",
      "    <cv-term terminology=\"NCBI-Taxonomy\" accession=\"10116\">Rattus norvegicus</cv-term>\n",
      "  </species-list>\n",
      "  <derived-from>\n",
      "    <cv-term terminology=\"Cellosaurus\" accession=\"CVCL_4032\">P3X63Ag8.653</cv-term>\n",
      "  </derived-from>\n",
      "  <reference-list>\n",
      "    <reference resource-internal-ref=\"PubMed=25400923\"/>\n",
      "\n",
      "Cell line examples:\n",
      "CVCL_E548 {'accession': 'CVCL_E548', 'cell_name': ['#15310-LN', '15310-LN', 'TER461', 'TER-461', 'Ter 461', 'TER479', 'TER-479', 'Ter 479', 'Extract 519'], 'species': ['9606'], 'reference': []}\n",
      "CVCL_KA96 {'accession': 'CVCL_KA96', 'cell_name': ['#16-15'], 'species': ['10090', '10116'], 'reference': ['25400923']}\n",
      "\n",
      "Cellosaurus contains information about 118785 cellular lines\n"
     ]
    }
   ],
   "source": [
    "cellosaurus_file = 'data/cellosaurus/cellosaurus.xml'\n",
    "print('Cellosaurus file:', cellosaurus_file)\n",
    "with open(cellosaurus_file, 'r') as file_:\n",
    "    lines = file_.readlines()\n",
    "    for i in range(107,135):\n",
    "        print(lines[i].strip('\\n'))\n",
    "\n",
    "import xml.etree.ElementTree as ET\n",
    "tree = ET.parse(cellosaurus_file)\n",
    "root = tree.getroot()\n",
    "\n",
    "cell_dict = dict()\n",
    "for cell_line in root.find('cell-line-list').findall('cell-line'):\n",
    "    accession = cell_line.find('accession-list').find('accession')\n",
    "    name_list = list()\n",
    "    for name in cell_line.find('name-list').findall('name'):\n",
    "        name_list.append(name.text)\n",
    "    species_list = list()\n",
    "    for species in cell_line.find('species-list').findall('cv-term'):\n",
    "        species_list.append(species.attrib['accession'])\n",
    "    reference_list = list()\n",
    "    try:\n",
    "        for reference in cell_line.find('reference-list').findall('reference'):\n",
    "            if 'PubMed' in reference.attrib['resource-internal-ref']:\n",
    "                reference_list.append(reference.attrib['resource-internal-ref'].replace('PubMed=',''))\n",
    "    except AttributeError:\n",
    "        pass\n",
    "    cell_dict[accession.text] = {'accession': accession.text, 'cell_name': name_list, 'species': species_list,\n",
    "                      'reference': reference_list}\n",
    "\n",
    "print('\\nCell line examples:')\n",
    "for cell_ in list(cell_dict.keys())[:2]:\n",
    "    print(cell_, cell_dict[cell_])\n",
    "\n",
    "print('\\nCellosaurus contains information about', len(cell_dict), 'cellular lines')"
   ]
  },
  {
   "cell_type": "markdown",
   "metadata": {},
   "source": [
    "The goal of this work is to characterize cellular lines from processing the related scientific literature.\n",
    "In this context, we can understand that verified references are those that appear in cellosaurus as reference.\n",
    "This will be our _Ground Truth_."
   ]
  },
  {
   "cell_type": "code",
   "execution_count": 2,
   "metadata": {
    "pycharm": {
     "name": "#%%\n"
    }
   },
   "outputs": [
    {
     "name": "stdout",
     "output_type": "stream",
     "text": [
      "118785 cell lines with 0 or more references\n",
      "53209 cell lines with 1 or more references\n",
      "14526 cell lines with 2 or more references\n",
      "7383 cell lines with 3 or more references\n",
      "4357 cell lines with 4 or more references\n",
      "2987 cell lines with 5 or more references\n",
      "2236 cell lines with 6 or more references\n",
      "1753 cell lines with 7 or more references\n",
      "1401 cell lines with 8 or more references\n",
      "1168 cell lines with 9 or more references\n",
      "972 cell lines with 10 or more references\n",
      "832 cell lines with 11 or more references\n",
      "710 cell lines with 12 or more references\n",
      "629 cell lines with 13 or more references\n",
      "569 cell lines with 14 or more references\n",
      "510 cell lines with 15 or more references\n",
      "445 cell lines with 16 or more references\n",
      "397 cell lines with 17 or more references\n",
      "354 cell lines with 18 or more references\n",
      "319 cell lines with 19 or more references\n"
     ]
    }
   ],
   "source": [
    "def get_cells_with_min_gtruth_refs(reference_min=0):\n",
    "    gtruth_idx = list()\n",
    "    for cell in cell_dict:\n",
    "        if len(cell_dict[cell]['reference']) >= reference_min:\n",
    "            gtruth_idx.append(cell)\n",
    "    return gtruth_idx\n",
    "\n",
    "gtruth_idx = list()\n",
    "for i in range(20):\n",
    "    gtruth_idx = get_cells_with_min_gtruth_refs(i)\n",
    "    print(len(gtruth_idx),'cell lines with', i, 'or more references')"
   ]
  },
  {
   "cell_type": "markdown",
   "metadata": {},
   "source": [
    "Now, using Entrez API, we can check how many references in PubMed are related to the cellular lines.\n",
    "First, we transform the list of names for a cellular line into a query for the PubMed search API."
   ]
  },
  {
   "cell_type": "code",
   "execution_count": 3,
   "metadata": {
    "pycharm": {
     "name": "#%%\n"
    }
   },
   "outputs": [
    {
     "name": "stdout",
     "output_type": "stream",
     "text": [
      "CVCL_7935 ['253J', '253j', '253-J', '253 J', '253J-P', '253J-Parental', '253J P', '253JP']\n",
      "(\"253J\"[Title/Abstract]) OR (\"253j\"[Title/Abstract]) OR (\"253-J\"[Title/Abstract]) OR (\"253 J\"[Title/Abstract]) OR (\"253J-P\"[Title/Abstract]) OR (\"253J-Parental\"[Title/Abstract]) OR (\"253J P\"[Title/Abstract]) OR (\"253JP\"[Title/Abstract]) AND ((cell line[Title/Abstract]) OR (cellular line[Title/Abstract]) OR (cell-line[Title/Abstract]))\n",
      "CVCL_6357 ['451Lu', '451LU', '451-LU', 'WM 451-Lu', 'WM-451Lu', 'WM-451LU', 'WM451Lu', 'WM451', 'WC00059', 'LU451', 'Lu451', 'EST81']\n",
      "(\"451Lu\"[Title/Abstract]) OR (\"451LU\"[Title/Abstract]) OR (\"451-LU\"[Title/Abstract]) OR (\"WM 451-Lu\"[Title/Abstract]) OR (\"WM-451Lu\"[Title/Abstract]) OR (\"WM-451LU\"[Title/Abstract]) OR (\"WM451Lu\"[Title/Abstract]) OR (\"WM451\"[Title/Abstract]) OR (\"WC00059\"[Title/Abstract]) OR (\"LU451\"[Title/Abstract]) OR (\"Lu451\"[Title/Abstract]) OR (\"EST81\"[Title/Abstract]) AND ((cell line[Title/Abstract]) OR (cellular line[Title/Abstract]) OR (cell-line[Title/Abstract]))\n",
      "CVCL_0126 ['5637']\n",
      "(\"5637\"[Title/Abstract]) AND ((cell line[Title/Abstract]) OR (cellular line[Title/Abstract]) OR (cell-line[Title/Abstract]))\n",
      "CVCL_1048 ['639V', '639v', '639-V', '639 V']\n",
      "(\"639V\"[Title/Abstract]) OR (\"639v\"[Title/Abstract]) OR (\"639-V\"[Title/Abstract]) OR (\"639 V\"[Title/Abstract]) AND ((cell line[Title/Abstract]) OR (cellular line[Title/Abstract]) OR (cell-line[Title/Abstract]))\n"
     ]
    }
   ],
   "source": [
    "import parse\n",
    "for cell_ in gtruth_idx[:4]:\n",
    "    print(cell_, cell_dict[cell_]['cell_name'])\n",
    "    print(parse.list_toquery(cell_dict[cell_]['cell_name']))"
   ]
  },
  {
   "cell_type": "markdown",
   "metadata": {},
   "source": [
    "We can see that there are cell lines with numeric names. These numeric names should be removed from name lists\n",
    "because they can cause that search queries return false results."
   ]
  },
  {
   "cell_type": "code",
   "execution_count": 4,
   "metadata": {
    "pycharm": {
     "name": "#%%\n"
    }
   },
   "outputs": [
    {
     "name": "stdout",
     "output_type": "stream",
     "text": [
      "There are 425 cell lines with only numeric names.\n",
      "We are left with 118360 cell lines.\n",
      "52945 cell lines with 1 or more references\n"
     ]
    }
   ],
   "source": [
    "def remove_numeric_names(namelist):\n",
    "    newlist = list()\n",
    "    for name in namelist:\n",
    "        if not str(parse.replace_spchars(name)).replace(' ','').isnumeric():\n",
    "            newlist.append(name)\n",
    "    return newlist\n",
    "\n",
    "list_to_pop = list()\n",
    "for cell_ in cell_dict:\n",
    "    newlist = remove_numeric_names(cell_dict[cell_]['cell_name'])\n",
    "    if len(newlist) == 0:\n",
    "        list_to_pop.append(cell_)\n",
    "    cell_dict[cell_]['cell_name'] = newlist\n",
    "\n",
    "print('There are',len(list_to_pop), 'cell lines with only numeric names.')\n",
    "\n",
    "for cell_ in list_to_pop:\n",
    "    try:\n",
    "        cell_dict.pop(cell_)\n",
    "    except:\n",
    "        pass\n",
    "\n",
    "gtruth_idx = get_cells_with_min_gtruth_refs(1)\n",
    "\n",
    "print('We are left with', len(cell_dict), 'cell lines.')\n",
    "print(len(gtruth_idx),'cell lines with', 1, 'or more references')"
   ]
  },
  {
   "cell_type": "markdown",
   "metadata": {},
   "source": [
    "We have removed numeric names from cell lines.\n",
    "\n",
    "Now, using Entrez API, we can check how many references in PubMed are related to the cellular lines.\n",
    "First, we transform the list of names for a cellular line into a query for the PubMed search API."
   ]
  },
  {
   "cell_type": "code",
   "execution_count": 5,
   "metadata": {
    "pycharm": {
     "name": "#%%\n"
    }
   },
   "outputs": [
    {
     "name": "stdout",
     "output_type": "stream",
     "text": [
      "CVCL_IW91 ['#40a']\n",
      "(\"#40a\"[Title/Abstract]) AND ((cell line[Title/Abstract]) OR (cellular line[Title/Abstract]) OR (cell-line[Title/Abstract]))\n",
      "CVCL_VG31 ['0162D']\n",
      "(\"0162D\"[Title/Abstract]) AND ((cell line[Title/Abstract]) OR (cellular line[Title/Abstract]) OR (cell-line[Title/Abstract]))\n",
      "CVCL_VG32 ['0165D']\n",
      "(\"0165D\"[Title/Abstract]) AND ((cell line[Title/Abstract]) OR (cellular line[Title/Abstract]) OR (cell-line[Title/Abstract]))\n",
      "CVCL_IP58 ['0308-GSC', 'GSC-0308']\n",
      "(\"0308-GSC\"[Title/Abstract]) OR (\"GSC-0308\"[Title/Abstract]) AND ((cell line[Title/Abstract]) OR (cellular line[Title/Abstract]) OR (cell-line[Title/Abstract]))\n"
     ]
    }
   ],
   "source": [
    "for cell_ in gtruth_idx[:4]:\n",
    "    print(cell_, cell_dict[cell_]['cell_name'])\n",
    "    print(parse.list_toquery(cell_dict[cell_]['cell_name']))\n"
   ]
  },
  {
   "cell_type": "markdown",
   "metadata": {},
   "source": [
    "We use that query to retrieve PMIDs by using Entrez API"
   ]
  },
  {
   "cell_type": "code",
   "execution_count": 6,
   "metadata": {
    "pycharm": {
     "name": "#%%\n"
    }
   },
   "outputs": [
    {
     "name": "stdout",
     "output_type": "stream",
     "text": [
      "________________________________________________________________________________\n",
      "CVCL_IW91 ['#40a']\n",
      "(\"#40a\"[Title/Abstract]) AND ((cell line[Title/Abstract]) OR (cellular line[Title/Abstract]) OR (cell-line[Title/Abstract]))\n",
      "CVCL_IW91 3 references in PubMed\n",
      "CVCL_IW91 1 references in Ground Truth\n",
      "CVCL_IW91 1 references in Ground Truth are in PubMed\n",
      "________________________________________________________________________________\n",
      "CVCL_VG31 ['0162D']\n",
      "(\"0162D\"[Title/Abstract]) AND ((cell line[Title/Abstract]) OR (cellular line[Title/Abstract]) OR (cell-line[Title/Abstract]))\n",
      "CVCL_VG31 0 references in PubMed\n",
      "CVCL_VG31 1 references in Ground Truth\n",
      "CVCL_VG31 0 references in Ground Truth are in PubMed\n",
      "________________________________________________________________________________\n",
      "CVCL_VG32 ['0165D']\n",
      "(\"0165D\"[Title/Abstract]) AND ((cell line[Title/Abstract]) OR (cellular line[Title/Abstract]) OR (cell-line[Title/Abstract]))\n",
      "CVCL_VG32 0 references in PubMed\n",
      "CVCL_VG32 1 references in Ground Truth\n",
      "CVCL_VG32 0 references in Ground Truth are in PubMed\n",
      "________________________________________________________________________________\n",
      "CVCL_IP58 ['0308-GSC', 'GSC-0308']\n",
      "(\"0308-GSC\"[Title/Abstract]) OR (\"GSC-0308\"[Title/Abstract]) AND ((cell line[Title/Abstract]) OR (cellular line[Title/Abstract]) OR (cell-line[Title/Abstract]))\n",
      "CVCL_IP58 0 references in PubMed\n",
      "CVCL_IP58 1 references in Ground Truth\n",
      "CVCL_IP58 0 references in Ground Truth are in PubMed\n",
      "________________________________________________________________________________\n",
      "CVCL_IJ15 ['031M-CUMC/INSERM', '031M']\n",
      "(\"031M-CUMC/INSERM\"[Title/Abstract]) OR (\"031M\"[Title/Abstract]) AND ((cell line[Title/Abstract]) OR (cellular line[Title/Abstract]) OR (cell-line[Title/Abstract]))\n",
      "CVCL_IJ15 0 references in PubMed\n",
      "CVCL_IJ15 1 references in Ground Truth\n",
      "CVCL_IJ15 0 references in Ground Truth are in PubMed\n",
      "________________________________________________________________________________\n",
      "CVCL_WU68 ['04T036']\n",
      "(\"04T036\"[Title/Abstract]) AND ((cell line[Title/Abstract]) OR (cellular line[Title/Abstract]) OR (cell-line[Title/Abstract]))\n",
      "CVCL_WU68 0 references in PubMed\n",
      "CVCL_WU68 2 references in Ground Truth\n",
      "CVCL_WU68 0 references in Ground Truth are in PubMed\n",
      "________________________________________________________________________________\n",
      "CVCL_V362 ['051407cb', '970615NSB']\n",
      "(\"051407cb\"[Title/Abstract]) OR (\"970615NSB\"[Title/Abstract]) AND ((cell line[Title/Abstract]) OR (cellular line[Title/Abstract]) OR (cell-line[Title/Abstract]))\n",
      "CVCL_V362 0 references in PubMed\n",
      "CVCL_V362 1 references in Ground Truth\n",
      "CVCL_V362 0 references in Ground Truth are in PubMed\n",
      "________________________________________________________________________________\n",
      "CVCL_IJ16 ['066MD-CUMC/INSERM', '066MD']\n",
      "(\"066MD-CUMC/INSERM\"[Title/Abstract]) OR (\"066MD\"[Title/Abstract]) AND ((cell line[Title/Abstract]) OR (cellular line[Title/Abstract]) OR (cell-line[Title/Abstract]))\n",
      "CVCL_IJ16 0 references in PubMed\n",
      "CVCL_IJ16 1 references in Ground Truth\n",
      "CVCL_IJ16 0 references in Ground Truth are in PubMed\n",
      "________________________________________________________________________________\n",
      "CVCL_J077 ['07-4D']\n",
      "(\"07-4D\"[Title/Abstract]) AND ((cell line[Title/Abstract]) OR (cellular line[Title/Abstract]) OR (cell-line[Title/Abstract]))\n",
      "CVCL_J077 0 references in PubMed\n",
      "CVCL_J077 1 references in Ground Truth\n",
      "CVCL_J077 0 references in Ground Truth are in PubMed\n",
      "________________________________________________________________________________\n",
      "CVCL_6G61 ['07-S-0025#0100']\n",
      "(\"07-S-0025#0100\"[Title/Abstract]) AND ((cell line[Title/Abstract]) OR (cellular line[Title/Abstract]) OR (cell-line[Title/Abstract]))\n",
      "CVCL_6G61 0 references in PubMed\n",
      "CVCL_6G61 1 references in Ground Truth\n",
      "CVCL_6G61 0 references in Ground Truth are in PubMed\n"
     ]
    }
   ],
   "source": [
    "for cell_ in gtruth_idx[:10]:\n",
    "    print('_'*80)\n",
    "    list_ = cell_dict[cell_]['cell_name']\n",
    "    print(cell_, list_)\n",
    "    query = parse.list_toquery(list_)\n",
    "    print(query)\n",
    "    idlist = parse.search_idlist(query)\n",
    "    print(cell_, len(idlist), 'references in PubMed')\n",
    "    print(cell_, len(cell_dict[cell_]['reference']), 'references in Ground Truth')\n",
    "    comm_ref = list(set(cell_dict[cell_]['reference']).intersection(set(idlist)))\n",
    "    print(cell_, len(comm_ref), 'references in Ground Truth are in PubMed')"
   ]
  },
  {
   "cell_type": "markdown",
   "metadata": {},
   "source": [
    "Now, we can store abstracts to disk.\n",
    "We will retrieve abstracts in two directories: one for Ground Truth, and other for PubMed references."
   ]
  },
  {
   "cell_type": "code",
   "execution_count": 7,
   "metadata": {
    "pycharm": {
     "name": "#%%\n"
    }
   },
   "outputs": [
    {
     "name": "stdout",
     "output_type": "stream",
     "text": [
      "CVCL_IW91 gt file already exists\n",
      "CVCL_IW91 pubmed file already exists\n",
      "CVCL_VG31 gt file already exists\n",
      "CVCL_VG31 0 abstracts from search 0 abstracts to fetch\n",
      "CVCL_VG32 gt file already exists\n",
      "CVCL_VG32 0 abstracts from search 0 abstracts to fetch\n",
      "CVCL_IP58 gt file already exists\n",
      "CVCL_IP58 0 abstracts from search 0 abstracts to fetch\n",
      "CVCL_IJ15 gt file already exists\n",
      "CVCL_IJ15 0 abstracts from search 0 abstracts to fetch\n",
      "CVCL_WU68 gt file already exists\n",
      "CVCL_WU68 0 abstracts from search 0 abstracts to fetch\n",
      "CVCL_V362 gt file already exists\n",
      "CVCL_V362 0 abstracts from search 0 abstracts to fetch\n",
      "CVCL_IJ16 gt file already exists\n",
      "CVCL_IJ16 0 abstracts from search 0 abstracts to fetch\n",
      "CVCL_J077 gt file already exists\n",
      "CVCL_J077 0 abstracts from search 0 abstracts to fetch\n",
      "CVCL_6G61 gt file already exists\n",
      "CVCL_6G61 0 abstracts from search 0 abstracts to fetch\n"
     ]
    }
   ],
   "source": [
    "for cell_ in gtruth_idx[:10]:\n",
    "    parse.process_gt_pm(cell_dict[cell_])\n",
    "\n",
    "# This code should be uncommmented if you wish to retrieve all abstracts\n",
    "# import multiprocessing\n",
    "# pool = multiprocessing.Pool(processes=8)\n",
    "# pool.map(func=parse.process_gt_pm, iterable=cell_dict)"
   ]
  },
  {
   "cell_type": "markdown",
   "metadata": {},
   "source": [
    "We now have a full database with retrieved abstracts.\n",
    "However, for compatibility and standard processing, we should parse json files into two CSV files."
   ]
  },
  {
   "cell_type": "code",
   "execution_count": 8,
   "metadata": {
    "pycharm": {
     "name": "#%%\n"
    }
   },
   "outputs": [
    {
     "name": "stdout",
     "output_type": "stream",
     "text": [
      "52945 files in data/cell_json_gt/\n",
      "4087 files in data/cell_json_pm/\n"
     ]
    }
   ],
   "source": [
    "import os\n",
    "import json\n",
    "import pandas as pd\n",
    "\n",
    "gtruth_dir = 'data/cell_json_gt/'\n",
    "gtruth_df = pd.DataFrame(columns=['title', 'index', 'document', 'cell_id'])\n",
    "i = 0\n",
    "for cell_ in gtruth_idx:\n",
    "    gtruth_file = gtruth_dir + cell_ + '.json'\n",
    "    if os.path.exists(gtruth_file):\n",
    "        cell_gtruth_ = json.load(fp=open(gtruth_file, 'r'))\n",
    "        docs = pd.DataFrame.from_dict(cell_gtruth_['documents'])\n",
    "        gtruth_df = pd.concat([gtruth_df, docs]).reset_index(drop=True)\n",
    "        i = i + 1\n",
    "\n",
    "print(i, 'files in', gtruth_dir)\n",
    "gtruth_df.to_csv(path_or_buf='data/gt_df.csv', sep=',', header=True, index=True)\n",
    "\n",
    "pm_dir = 'data/cell_json_pm/'\n",
    "pm_filelist = os.listdir(pm_dir)\n",
    "\n",
    "reference_df = pd.DataFrame(columns=['title', 'index', 'document', 'cell_id'])\n",
    "i = 0\n",
    "for reference_file in pm_filelist:\n",
    "    cell_reference_ = json.load(fp=open(pm_dir + reference_file, 'r'))\n",
    "    docs = pd.DataFrame.from_dict(cell_reference_['documents'])\n",
    "    reference_df = pd.concat([reference_df, docs]).reset_index(drop=True)\n",
    "    i = i + 1\n",
    "\n",
    "print(i, 'files in', pm_dir)\n",
    "reference_df.to_csv(path_or_buf='data/pm_df.csv', sep=',', header=True, index=True)"
   ]
  },
  {
   "cell_type": "markdown",
   "metadata": {},
   "source": [
    "If you don't want to have to retrieve all that information, you can read directly from the CSV file."
   ]
  },
  {
   "cell_type": "code",
   "execution_count": 1,
   "metadata": {
    "pycharm": {
     "name": "#%%\n"
    }
   },
   "outputs": [
    {
     "name": "stdout",
     "output_type": "stream",
     "text": [
      "GTruth Document table has information on 97433 documents of 52945 cell lines\n",
      "Reference Document table has information on 161027 documents of 4087 cell lines\n"
     ]
    }
   ],
   "source": [
    "import pandas as pd\n",
    "\n",
    "gtruth_file = 'data/gt_df.csv'\n",
    "reference_file = 'data/pm_df.csv'\n",
    "\n",
    "gtruth_df = pd.read_csv(gtruth_file, sep=',', error_bad_lines=False, encoding=\"latin-1\",\n",
    "                         index_col=0, header=0)\n",
    "reference_df = pd.read_csv(reference_file, sep=',', error_bad_lines=False, encoding=\"latin-1\",\n",
    "                         index_col=0, header=0)\n",
    "\n",
    "print('GTruth Document table has information on', gtruth_df.shape[0], 'documents of',\n",
    "      gtruth_df['cell_id'].unique().shape[0], 'cell lines')\n",
    "print('Reference Document table has information on', reference_df.shape[0], 'documents of',\n",
    "      reference_df['cell_id'].unique().shape[0], 'cell lines')"
   ]
  },
  {
   "cell_type": "markdown",
   "metadata": {},
   "source": [
    "Now that we have loaded the corpus, we can process it.\n",
    "First, we remove all references and ground truth that is not common."
   ]
  },
  {
   "cell_type": "code",
   "execution_count": 2,
   "metadata": {
    "pycharm": {
     "name": "#%%\n"
    }
   },
   "outputs": [
    {
     "name": "stdout",
     "output_type": "stream",
     "text": [
      "Datasets have 952 common cell lines\n",
      "GTruth Document table has information on 7482 documents of 952 cell lines\n",
      "Reference Document table has information on 74587 documents of 952 cell lines\n",
      "Every cell line has at least 6 documents\n"
     ]
    }
   ],
   "source": [
    "gt_count = gtruth_df.groupby(by=['cell_id'])['cell_id'].count()\n",
    "gtruth_df = gtruth_df[gtruth_df.cell_id.isin(gt_count[gt_count > 2].index)]\n",
    "pm_count = reference_df.groupby(by=['cell_id'])['cell_id'].count()\n",
    "reference_df = reference_df[reference_df.cell_id.isin(pm_count[pm_count > 2].index)]\n",
    "\n",
    "gtruth_cells = gtruth_df['cell_id'].unique()\n",
    "reference_cells = reference_df['cell_id'].unique()\n",
    "cell_intersection = set(gtruth_cells).intersection(set(reference_cells))\n",
    "\n",
    "print('Datasets have', len(cell_intersection), 'common cell lines')\n",
    "\n",
    "gtruth_df = gtruth_df[gtruth_df.cell_id.isin(cell_intersection)].reset_index(drop=True)\n",
    "reference_df = reference_df[reference_df.cell_id.isin(cell_intersection)].reset_index(drop=True)\n",
    "\n",
    "print('GTruth Document table has information on', gtruth_df.shape[0], 'documents of',\n",
    "      gtruth_df['cell_id'].unique().shape[0], 'cell lines')\n",
    "print('Reference Document table has information on', reference_df.shape[0], 'documents of',\n",
    "      reference_df['cell_id'].unique().shape[0], 'cell lines')\n",
    "\n",
    "reference_df = pd.concat([reference_df, gtruth_df]).reset_index(drop=True)\n",
    "pm_count = reference_df.groupby(by=['cell_id'])['cell_id'].count()\n",
    "print('Every cell line has at least', min(pm_count), 'documents')\n"
   ]
  },
  {
   "cell_type": "markdown",
   "metadata": {},
   "source": [
    "We define _crossval_ method for processing the dataframe.\n",
    "_crossval_ method filters cell lines with _min_references_ documents."
   ]
  },
  {
   "cell_type": "code",
   "execution_count": 11,
   "metadata": {
    "pycharm": {
     "name": "#%%\n"
    }
   },
   "outputs": [
    {
     "name": "stdout",
     "output_type": "stream",
     "text": [
      "________________________________________________________________________________\n",
      "10 minimum references\n",
      "52780 abstracts in corpus\n",
      "Every cell line has at least 10 documents\n",
      "DTM shape: (52780, 58780)\n",
      "Top 20 words\n",
      "[('cell', 1.0184522955857487), ('line', 1.075924084408676), ('cells', 1.2501674871604203), ('human', 1.6265811033751543), ('expression', 1.77653949828469), ('results', 1.799158394477844), ('lines', 1.9221527865028858), ('study', 2.0014453825174963), ('protein', 2.0943395858318516), ('using', 2.1268389231836755), ('cancer', 2.1414446009644768), ('induced', 2.231783768046781), ('activity', 2.310096371482535), ('showed', 2.3226751536893953), ('tumor', 2.3468594329799215), ('gene', 2.3486824545953935), ('vitro', 2.3728387538345777), ('used', 2.373063094833836), ('effect', 2.3804193808222998), ('growth', 2.3863890966656855)]\n",
      "58780 words\n",
      "Fitting 10 folds for each of 4 candidates, totalling 40 fits\n"
     ]
    },
    {
     "name": "stderr",
     "output_type": "stream",
     "text": [
      "[Parallel(n_jobs=-1)]: Using backend LokyBackend with 96 concurrent workers.\n",
      "[Parallel(n_jobs=-1)]: Done  13 out of  40 | elapsed: 191.2min remaining: 397.0min\n",
      "[Parallel(n_jobs=-1)]: Done  40 out of  40 | elapsed: 237.3min finished\n"
     ]
    },
    {
     "name": "stdout",
     "output_type": "stream",
     "text": [
      "________________________________________________________________________________\n",
      "50 minimum references\n",
      "41842 abstracts in corpus\n",
      "Every cell line has at least 50 documents\n",
      "DTM shape: (41842, 52270)\n",
      "Top 20 words\n",
      "[('cell', 1.0143946255943683), ('line', 1.048626470376825), ('cells', 1.231947095961191), ('human', 1.6426548186440084), ('expression', 1.7666431615270874), ('results', 1.7792746904543022), ('study', 1.965720394985106), ('lines', 2.006529311541077), ('protein', 2.068642649655791), ('using', 2.1190135225484767), ('cancer', 2.1840887992555746), ('induced', 2.188863946299316), ('activity', 2.270411761806735), ('showed', 2.2989962389253042), ('effect', 2.3273398358945325), ('vitro', 2.356603079799), ('used', 2.3566958829172515), ('gene', 2.3712796694853546), ('tumor', 2.375999330879853), ('treatment', 2.395103933330922)]\n",
      "52270 words\n",
      "Fitting 10 folds for each of 4 candidates, totalling 40 fits\n"
     ]
    },
    {
     "name": "stderr",
     "output_type": "stream",
     "text": [
      "[Parallel(n_jobs=-1)]: Using backend LokyBackend with 96 concurrent workers.\n",
      "[Parallel(n_jobs=-1)]: Done  13 out of  40 | elapsed: 73.5min remaining: 152.6min\n",
      "[Parallel(n_jobs=-1)]: Done  40 out of  40 | elapsed: 92.6min finished\n"
     ]
    },
    {
     "name": "stdout",
     "output_type": "stream",
     "text": [
      "________________________________________________________________________________\n",
      "100 minimum references\n",
      "33511 abstracts in corpus\n",
      "Every cell line has at least 100 documents\n",
      "DTM shape: (33511, 46332)\n",
      "Top 20 words\n",
      "[('cell', 1.0132468182210095), ('line', 1.039875021221987), ('cells', 1.2232405362032939), ('human', 1.6509034232917843), ('expression', 1.7656588367445547), ('results', 1.771321657540039), ('study', 1.9522760543310191), ('lines', 2.0611571396701676), ('protein', 2.065218146676931), ('using', 2.1172864052041946), ('induced', 2.162339489456693), ('cancer', 2.218258332220162), ('activity', 2.248371217914389), ('showed', 2.2958572520679263), ('effect', 2.3122375446585295), ('vitro', 2.3492704510781337), ('used', 2.360373965570644), ('gene', 2.373250182333052), ('treatment', 2.3904807197247964), ('tumor', 2.3907204703852587)]\n",
      "46332 words\n",
      "Fitting 10 folds for each of 4 candidates, totalling 40 fits\n"
     ]
    },
    {
     "name": "stderr",
     "output_type": "stream",
     "text": [
      "[Parallel(n_jobs=-1)]: Using backend LokyBackend with 96 concurrent workers.\n",
      "[Parallel(n_jobs=-1)]: Done  13 out of  40 | elapsed: 38.3min remaining: 79.6min\n",
      "[Parallel(n_jobs=-1)]: Done  40 out of  40 | elapsed: 50.1min finished\n"
     ]
    }
   ],
   "source": [
    "from sklearn.svm import SVC\n",
    "from sklearn.svm import LinearSVC\n",
    "from sklearn.model_selection import GridSearchCV\n",
    "from nltk.stem.porter import PorterStemmer\n",
    "from sklearn.feature_selection import SelectFromModel\n",
    "from sklearn.feature_extraction.text import TfidfVectorizer\n",
    "\n",
    "def crossval(df, min_references, stemmed=False):\n",
    "    pm_count = df.groupby(by=['cell_id'])['cell_id'].count()\n",
    "    df = df[df.cell_id.isin(pm_count[pm_count >= min_references].index)]\n",
    "    df = df[df.cell_id.isin(pm_count[pm_count < 500].index)]\n",
    "    print(df.shape[0], 'abstracts in corpus')\n",
    "    pm_count = df.groupby(by=['cell_id'])['cell_id'].count()\n",
    "    print('Every cell line has at least', min(pm_count), 'documents')\n",
    "\n",
    "    if stemmed:\n",
    "        stemmer = PorterStemmer()\n",
    "        stemmed_corpus = list()\n",
    "        for doc in df['document']:\n",
    "            doc = doc.replace('.', '').replace(',', '').replace(';', '').replace(':', '')\n",
    "            stemmed_corpus.append(' '.join([stemmer.stem(x) for x in doc.split()]))\n",
    "        corpus = stemmed_corpus\n",
    "    else:\n",
    "        corpus = df['document']\n",
    "\n",
    "    vectorizer = TfidfVectorizer(sublinear_tf=True, max_df=1.0, min_df=2, strip_accents='ascii', stop_words='english',\n",
    "                                 token_pattern=u'(?ui)\\\\b\\\\w*[a-z]+\\\\w*\\\\b')\n",
    "    dtm = vectorizer.fit_transform(corpus)\n",
    "    print('DTM shape:', dtm.shape)\n",
    "    wordfreq = dict(zip(vectorizer.get_feature_names(), vectorizer.idf_))\n",
    "    print('Top 20 words')\n",
    "    print(sorted(wordfreq.items(), key=lambda x: x[1])[:20])\n",
    "    reference_vocab = vectorizer.get_feature_names()\n",
    "    print(len(reference_vocab), 'words')\n",
    "\n",
    "    X, y = dtm, df['cell_id']\n",
    "    scoring = ['precision_micro', 'recall_micro']\n",
    "    param_grid = {'C': [1, 10], 'kernel': ('linear', 'rbf')}\n",
    "    svc = SVC(decision_function_shape='ovr')\n",
    "    clf = GridSearchCV(estimator=svc, param_grid=param_grid, return_train_score=True, cv=10, n_jobs=-1,\n",
    "                       scoring=scoring, refit='recall_micro', verbose=1)\n",
    "    clf = clf.fit(X=X, y=y, groups=df['cell_id'])\n",
    "    return {'clf': clf, 'estimator': clf.best_estimator_, 'pm_count': pm_count}\n",
    "\n",
    "\n",
    "results_min_ref = dict()\n",
    "for min_ref in [10, 50, 100]:\n",
    "    print('_'*80)\n",
    "    print(min_ref, 'minimum references')\n",
    "    results_min_ref[min_ref] = crossval(df=reference_df, min_references=min_ref, stemmed=False)"
   ]
  },
  {
   "cell_type": "markdown",
   "metadata": {},
   "source": [
    "We plot micro-averaged precision for Non-Stemmed corpus.\n",
    "This results show that the best estimator is _C:1-kernel:linear_"
   ]
  },
  {
   "cell_type": "code",
   "execution_count": 12,
   "metadata": {
    "pycharm": {
     "name": "#%%\n"
    }
   },
   "outputs": [
    {
     "data": {
      "image/png": "[encoded data removed]",
      "text/plain": [
       "<Figure size 720x432 with 1 Axes>"
      ]
     },
     "metadata": {
      "needs_background": "light"
     },
     "output_type": "display_data"
    }
   ],
   "source": [
    "clf_10 = results_min_ref[10]['clf']\n",
    "clf_50 = results_min_ref[50]['clf']\n",
    "clf_100 = results_min_ref[100]['clf']\n",
    "\n",
    "min_refs = [10, 50, 100]\n",
    "labels = ['C:1-kernel:linear', 'C:1-kernel:rbf', 'C:10-kernel:linear', 'C:10-kernel:rbf']\n",
    "markers = ['^', '.', 'v', 's']\n",
    "\n",
    "import matplotlib.pyplot as plt\n",
    "\n",
    "plt.figure(figsize=(10, 6))\n",
    "plt.ylabel('Micro-Averaged Precision')\n",
    "plt.xlabel('Minimum number of documents')\n",
    "for i in range(4):\n",
    "    x = pd.array(min_refs)\n",
    "    y = clf_10.cv_results_['mean_test_precision_micro'][i], clf_50.cv_results_['mean_test_precision_micro'][i], \\\n",
    "        clf_100.cv_results_['mean_test_precision_micro'][i]\n",
    "    e = clf_10.cv_results_['std_test_precision_micro'][i], clf_50.cv_results_['std_test_precision_micro'][i], \\\n",
    "        clf_100.cv_results_['std_test_precision_micro'][i]\n",
    "    plt.errorbar(x, y, e, linestyle='None', marker=markers[i], label=labels[i], capsize=3)\n",
    "    plt.legend(loc='upper left')\n",
    "\n",
    "plt.savefig('data/img/precision_.png')\n",
    "plt.show()\n",
    "plt.close()"
   ]
  },
  {
   "cell_type": "markdown",
   "metadata": {},
   "source": [
    "We repeat the process for stemmed corpus.\n",
    "This results show that the best estimator is _C:1-kernel:linear_."
   ]
  },
  {
   "cell_type": "code",
   "execution_count": 3,
   "metadata": {
    "pycharm": {
     "name": "#%%\n"
    },
    "scrolled": true
   },
   "outputs": [
    {
     "name": "stdout",
     "output_type": "stream",
     "text": [
      "________________________________________________________________________________\n",
      "10 minimum references\n",
      "52780 abstracts in corpus\n",
      "Every cell line has at least 10 documents\n",
      "DTM shape: (52780, 47632)\n",
      "Top 20 words\n",
      "[('cell', 1.0126025252097202), ('line', 1.0241035589325231), ('wa', 1.2993129542293087), ('express', 1.6066790758515235), ('human', 1.6166683314908883), ('thi', 1.625057819873915), ('studi', 1.6319844082634294), ('use', 1.6343754305827143), ('result', 1.6465255494980209), ('activ', 1.7902664644032593), ('effect', 1.876245833895124), ('protein', 1.964884348413899), ('induc', 2.0034071797393542), ('increas', 2.079508686500078), ('cancer', 2.1033791311686043), ('suggest', 2.1156182014045783), ('gene', 2.172780016044055), ('level', 2.186152577051571), ('inhibit', 2.199832168240179), ('tumor', 2.2367963098703254)]\n",
      "47632 words\n",
      "Fitting 10 folds for each of 4 candidates, totalling 40 fits\n"
     ]
    },
    {
     "name": "stderr",
     "output_type": "stream",
     "text": [
      "[Parallel(n_jobs=-1)]: Using backend LokyBackend with 96 concurrent workers.\n",
      "[Parallel(n_jobs=-1)]: Done  13 out of  40 | elapsed: 182.8min remaining: 379.6min\n",
      "[Parallel(n_jobs=-1)]: Done  40 out of  40 | elapsed: 226.6min finished\n"
     ]
    },
    {
     "name": "stdout",
     "output_type": "stream",
     "text": [
      "________________________________________________________________________________\n",
      "50 minimum references\n",
      "41842 abstracts in corpus\n",
      "Every cell line has at least 50 documents\n",
      "DTM shape: (41842, 41993)\n",
      "Top 20 words\n",
      "[('cell', 1.0099192628177527), ('line', 1.0185248549837316), ('wa', 1.2782389519608381), ('express', 1.5964323003152405), ('studi', 1.6148248314027882), ('thi', 1.6209426853028326), ('use', 1.6250421474204164), ('result', 1.627187687310161), ('human', 1.63189716653547), ('activ', 1.752849134696706), ('effect', 1.8325578713887933), ('protein', 1.9385352167448457), ('induc', 1.96008657726685), ('increas', 2.043698902717405), ('suggest', 2.110851401736059), ('cancer', 2.1461604836793553), ('inhibit', 2.157578808802281), ('level', 2.1594819038082083), ('gene', 2.1981663389616295), ('tumor', 2.269560770350392)]\n",
      "41993 words\n",
      "Fitting 10 folds for each of 4 candidates, totalling 40 fits\n"
     ]
    },
    {
     "name": "stderr",
     "output_type": "stream",
     "text": [
      "[Parallel(n_jobs=-1)]: Using backend LokyBackend with 96 concurrent workers.\n",
      "[Parallel(n_jobs=-1)]: Done  13 out of  40 | elapsed: 75.9min remaining: 157.7min\n",
      "[Parallel(n_jobs=-1)]: Done  40 out of  40 | elapsed: 94.2min finished\n"
     ]
    },
    {
     "name": "stdout",
     "output_type": "stream",
     "text": [
      "________________________________________________________________________________\n",
      "100 minimum references\n",
      "33511 abstracts in corpus\n",
      "Every cell line has at least 100 documents\n",
      "DTM shape: (33511, 36932)\n",
      "Top 20 words\n",
      "[('cell', 1.0088116859679268), ('line', 1.0174891202714447), ('wa', 1.2719318504818), ('express', 1.591595532737584), ('studi', 1.6086156004820227), ('thi', 1.6160468955179994), ('result', 1.6189241176655726), ('use', 1.6269911451959866), ('human', 1.6394129669487816), ('activ', 1.7317187847833244), ('effect', 1.8178846959555006), ('induc', 1.934341790696461), ('protein', 1.9344937202014632), ('increas', 2.02225817950956), ('suggest', 2.0965256631755658), ('inhibit', 2.147095147470556), ('level', 2.1506722952179547), ('cancer', 2.1804395311003115), ('gene', 2.2089185706293613), ('tumor', 2.28825347873883)]\n",
      "36932 words\n",
      "Fitting 10 folds for each of 4 candidates, totalling 40 fits\n"
     ]
    },
    {
     "name": "stderr",
     "output_type": "stream",
     "text": [
      "[Parallel(n_jobs=-1)]: Using backend LokyBackend with 96 concurrent workers.\n",
      "[Parallel(n_jobs=-1)]: Done  13 out of  40 | elapsed: 35.0min remaining: 72.7min\n",
      "[Parallel(n_jobs=-1)]: Done  40 out of  40 | elapsed: 46.4min finished\n"
     ]
    },
    {
     "ename": "NameError",
     "evalue": "name 'plt' is not defined",
     "output_type": "error",
     "traceback": [
      "\u001B[0;31m---------------------------------------------------------------------------\u001B[0m",
      "\u001B[0;31mNameError\u001B[0m                                 Traceback (most recent call last)",
      "\u001B[0;32m<ipython-input-3-c5c2b6ca0057>\u001B[0m in \u001B[0;36m<module>\u001B[0;34m\u001B[0m\n\u001B[1;32m     58\u001B[0m \u001B[0mmarkers\u001B[0m \u001B[0;34m=\u001B[0m \u001B[0;34m[\u001B[0m\u001B[0;34m'^'\u001B[0m\u001B[0;34m,\u001B[0m \u001B[0;34m'.'\u001B[0m\u001B[0;34m,\u001B[0m \u001B[0;34m'v'\u001B[0m\u001B[0;34m,\u001B[0m \u001B[0;34m's'\u001B[0m\u001B[0;34m]\u001B[0m\u001B[0;34m\u001B[0m\u001B[0;34m\u001B[0m\u001B[0m\n\u001B[1;32m     59\u001B[0m \u001B[0;34m\u001B[0m\u001B[0m\n\u001B[0;32m---> 60\u001B[0;31m \u001B[0mplt\u001B[0m\u001B[0;34m.\u001B[0m\u001B[0mfigure\u001B[0m\u001B[0;34m(\u001B[0m\u001B[0mfigsize\u001B[0m\u001B[0;34m=\u001B[0m\u001B[0;34m(\u001B[0m\u001B[0;36m10\u001B[0m\u001B[0;34m,\u001B[0m \u001B[0;36m6\u001B[0m\u001B[0;34m)\u001B[0m\u001B[0;34m)\u001B[0m\u001B[0;34m\u001B[0m\u001B[0;34m\u001B[0m\u001B[0m\n\u001B[0m\u001B[1;32m     61\u001B[0m \u001B[0mplt\u001B[0m\u001B[0;34m.\u001B[0m\u001B[0mylabel\u001B[0m\u001B[0;34m(\u001B[0m\u001B[0;34m'Micro-Averaged Precision'\u001B[0m\u001B[0;34m)\u001B[0m\u001B[0;34m\u001B[0m\u001B[0;34m\u001B[0m\u001B[0m\n\u001B[1;32m     62\u001B[0m \u001B[0mplt\u001B[0m\u001B[0;34m.\u001B[0m\u001B[0mxlabel\u001B[0m\u001B[0;34m(\u001B[0m\u001B[0;34m'Minimum number of documents'\u001B[0m\u001B[0;34m)\u001B[0m\u001B[0;34m\u001B[0m\u001B[0;34m\u001B[0m\u001B[0m\n",
      "\u001B[0;31mNameError\u001B[0m: name 'plt' is not defined"
     ]
    }
   ],
   "source": [
    "from sklearn.svm import SVC\n",
    "from sklearn.svm import LinearSVC\n",
    "from sklearn.model_selection import GridSearchCV\n",
    "from nltk.stem.porter import PorterStemmer\n",
    "from sklearn.feature_selection import SelectFromModel\n",
    "from sklearn.feature_extraction.text import TfidfVectorizer\n",
    "\n",
    "def crossval(df, min_references, stemmed=False):\n",
    "    pm_count = df.groupby(by=['cell_id'])['cell_id'].count()\n",
    "    df = df[df.cell_id.isin(pm_count[pm_count >= min_references].index)]\n",
    "    df = df[df.cell_id.isin(pm_count[pm_count < 500].index)]\n",
    "    print(df.shape[0], 'abstracts in corpus')\n",
    "    pm_count = df.groupby(by=['cell_id'])['cell_id'].count()\n",
    "    print('Every cell line has at least', min(pm_count), 'documents')\n",
    "\n",
    "    if stemmed:\n",
    "        stemmer = PorterStemmer()\n",
    "        stemmed_corpus = list()\n",
    "        for doc in df['document']:\n",
    "            doc = doc.replace('.', '').replace(',', '').replace(';', '').replace(':', '')\n",
    "            stemmed_corpus.append(' '.join([stemmer.stem(x) for x in doc.split()]))\n",
    "        corpus = stemmed_corpus\n",
    "    else:\n",
    "        corpus = df['document']\n",
    "\n",
    "    vectorizer = TfidfVectorizer(sublinear_tf=True, max_df=1.0, min_df=2, strip_accents='ascii', stop_words='english',\n",
    "                                 token_pattern=u'(?ui)\\\\b\\\\w*[a-z]+\\\\w*\\\\b')\n",
    "    dtm = vectorizer.fit_transform(corpus)\n",
    "    print('DTM shape:', dtm.shape)\n",
    "    wordfreq = dict(zip(vectorizer.get_feature_names(), vectorizer.idf_))\n",
    "    print('Top 20 words')\n",
    "    print(sorted(wordfreq.items(), key=lambda x: x[1])[:20])\n",
    "    reference_vocab = vectorizer.get_feature_names()\n",
    "    print(len(reference_vocab), 'words')\n",
    "\n",
    "    X, y = dtm, df['cell_id']\n",
    "    scoring = ['precision_micro', 'recall_micro']\n",
    "    param_grid = {'C': [1, 10], 'kernel': ('linear', 'rbf')}\n",
    "    svc = SVC(decision_function_shape='ovr')\n",
    "    clf = GridSearchCV(estimator=svc, param_grid=param_grid, return_train_score=True, cv=10, n_jobs=-1,\n",
    "                       scoring=scoring, refit='recall_micro', verbose=1)\n",
    "    clf = clf.fit(X=X, y=y, groups=df['cell_id'])\n",
    "    return {'clf': clf, 'estimator': clf.best_estimator_, 'pm_count': pm_count}\n",
    "\n",
    "\n",
    "results_min_ref = dict()\n",
    "for min_ref in [10, 50, 100]:\n",
    "    print('_'*80)\n",
    "    print(min_ref, 'minimum references')\n",
    "    results_min_ref[min_ref] = crossval(df=reference_df, min_references=min_ref, stemmed=True)\n",
    "\n",
    "clf_10 = results_min_ref[10]['clf']\n",
    "clf_50 = results_min_ref[50]['clf']\n",
    "clf_100 = results_min_ref[100]['clf']\n",
    "\n",
    "min_refs = [10, 50, 100]\n",
    "labels = ['C:1-kernel:linear', 'C:1-kernel:rbf', 'C:10-kernel:linear', 'C:10-kernel:rbf']\n",
    "markers = ['^', '.', 'v', 's']\n",
    "\n",
    "plt.figure(figsize=(10, 6))\n",
    "plt.ylabel('Micro-Averaged Precision')\n",
    "plt.xlabel('Minimum number of documents')\n",
    "for i in range(4):\n",
    "    x = pd.array(min_refs)\n",
    "    y = clf_10.cv_results_['mean_test_precision_micro'][i], clf_50.cv_results_['mean_test_precision_micro'][i], \\\n",
    "        clf_100.cv_results_['mean_test_precision_micro'][i]\n",
    "    e = clf_10.cv_results_['std_test_precision_micro'][i], clf_50.cv_results_['std_test_precision_micro'][i], \\\n",
    "        clf_100.cv_results_['std_test_precision_micro'][i]\n",
    "    plt.errorbar(x, y, e, linestyle='None', marker=markers[i], label=labels[i], capsize=3)\n",
    "    plt.legend(loc='upper left')\n",
    "\n",
    "plt.savefig('data/img/precision_stemmed.png')\n",
    "plt.show()\n",
    "plt.close()"
   ]
  },
  {
   "cell_type": "code",
   "execution_count": 4,
   "metadata": {
    "pycharm": {
     "name": "#%%\n"
    }
   },
   "outputs": [
    {
     "data": {
      "image/png": "[encoded data removed]",
      "text/plain": [
       "<Figure size 720x432 with 1 Axes>"
      ]
     },
     "metadata": {
      "needs_background": "light"
     },
     "output_type": "display_data"
    }
   ],
   "source": [
    "import matplotlib.pyplot as plt\n",
    "\n",
    "plt.figure(figsize=(10, 6))\n",
    "plt.ylabel('Micro-Averaged Precision')\n",
    "plt.xlabel('Minimum number of documents')\n",
    "for i in range(4):\n",
    "    x = pd.array(min_refs)\n",
    "    y = clf_10.cv_results_['mean_test_precision_micro'][i], clf_50.cv_results_['mean_test_precision_micro'][i], \\\n",
    "        clf_100.cv_results_['mean_test_precision_micro'][i]\n",
    "    e = clf_10.cv_results_['std_test_precision_micro'][i], clf_50.cv_results_['std_test_precision_micro'][i], \\\n",
    "        clf_100.cv_results_['std_test_precision_micro'][i]\n",
    "    plt.errorbar(x, y, e, linestyle='None', marker=markers[i], label=labels[i], capsize=3)\n",
    "    plt.legend(loc='upper left')\n",
    "\n",
    "plt.savefig('data/img/precision_stemmed.png')\n",
    "plt.show()\n",
    "plt.close()\n"
   ]
  },
  {
   "cell_type": "markdown",
   "metadata": {
    "pycharm": {
     "name": "#%% md\n"
    }
   },
   "source": [
    "Now we define a pipeline for calculating Micro-Averaged precision varying the minimum number of documents per class.\n",
    "We plot micro-averaged precision for Non-Stemmed corpus."
   ]
  },
  {
   "cell_type": "code",
   "execution_count": 6,
   "metadata": {
    "pycharm": {
     "name": "#%%\n"
    }
   },
   "outputs": [
    {
     "name": "stdout",
     "output_type": "stream",
     "text": [
      "________________________________________________________________________________\n",
      "10 minimum references\n",
      "52780 abstracts in corpus\n",
      "756 cell lines\n",
      "Every cell line has at least 10 documents\n",
      "DTM shape: (52780, 58780)\n",
      "Top 20 words\n",
      "[('cell', 1.0184522955857487), ('line', 1.075924084408676), ('cells', 1.2501674871604203), ('human', 1.6265811033751543), ('expression', 1.77653949828469), ('results', 1.799158394477844), ('lines', 1.9221527865028858), ('study', 2.0014453825174963), ('protein', 2.0943395858318516), ('using', 2.1268389231836755), ('cancer', 2.1414446009644768), ('induced', 2.231783768046781), ('activity', 2.310096371482535), ('showed', 2.3226751536893953), ('tumor', 2.3468594329799215), ('gene', 2.3486824545953935), ('vitro', 2.3728387538345777), ('used', 2.373063094833836), ('effect', 2.3804193808222998), ('growth', 2.3863890966656855)]\n",
      "58780 words\n",
      "(52780, 58780) (52780, 29390)\n",
      "================================================================================\n",
      "{'fit_time': array([335.67725158, 332.62810111, 333.09101176, 335.7927351 ,\n",
      "       339.73024344, 345.92185736, 340.10317922, 334.7141757 ,\n",
      "       298.57059669, 256.1358273 ]), 'score_time': array([0.39022708, 0.37775207, 0.39276409, 0.36969924, 0.38210201,\n",
      "       0.3531158 , 0.3878355 , 0.38486695, 0.3585465 , 0.35566521]), 'estimator': (LinearSVC(C=1, class_weight=None, dual=False, fit_intercept=True,\n",
      "          intercept_scaling=1, loss='squared_hinge', max_iter=1000,\n",
      "          multi_class='ovr', penalty='l2', random_state=None, tol=0.001,\n",
      "          verbose=0), LinearSVC(C=1, class_weight=None, dual=False, fit_intercept=True,\n",
      "          intercept_scaling=1, loss='squared_hinge', max_iter=1000,\n",
      "          multi_class='ovr', penalty='l2', random_state=None, tol=0.001,\n",
      "          verbose=0), LinearSVC(C=1, class_weight=None, dual=False, fit_intercept=True,\n",
      "          intercept_scaling=1, loss='squared_hinge', max_iter=1000,\n",
      "          multi_class='ovr', penalty='l2', random_state=None, tol=0.001,\n",
      "          verbose=0), LinearSVC(C=1, class_weight=None, dual=False, fit_intercept=True,\n",
      "          intercept_scaling=1, loss='squared_hinge', max_iter=1000,\n",
      "          multi_class='ovr', penalty='l2', random_state=None, tol=0.001,\n",
      "          verbose=0), LinearSVC(C=1, class_weight=None, dual=False, fit_intercept=True,\n",
      "          intercept_scaling=1, loss='squared_hinge', max_iter=1000,\n",
      "          multi_class='ovr', penalty='l2', random_state=None, tol=0.001,\n",
      "          verbose=0), LinearSVC(C=1, class_weight=None, dual=False, fit_intercept=True,\n",
      "          intercept_scaling=1, loss='squared_hinge', max_iter=1000,\n",
      "          multi_class='ovr', penalty='l2', random_state=None, tol=0.001,\n",
      "          verbose=0), LinearSVC(C=1, class_weight=None, dual=False, fit_intercept=True,\n",
      "          intercept_scaling=1, loss='squared_hinge', max_iter=1000,\n",
      "          multi_class='ovr', penalty='l2', random_state=None, tol=0.001,\n",
      "          verbose=0), LinearSVC(C=1, class_weight=None, dual=False, fit_intercept=True,\n",
      "          intercept_scaling=1, loss='squared_hinge', max_iter=1000,\n",
      "          multi_class='ovr', penalty='l2', random_state=None, tol=0.001,\n",
      "          verbose=0), LinearSVC(C=1, class_weight=None, dual=False, fit_intercept=True,\n",
      "          intercept_scaling=1, loss='squared_hinge', max_iter=1000,\n",
      "          multi_class='ovr', penalty='l2', random_state=None, tol=0.001,\n",
      "          verbose=0), LinearSVC(C=1, class_weight=None, dual=False, fit_intercept=True,\n",
      "          intercept_scaling=1, loss='squared_hinge', max_iter=1000,\n",
      "          multi_class='ovr', penalty='l2', random_state=None, tol=0.001,\n",
      "          verbose=0)), 'test_precision_macro': array([0.56116482, 0.57289136, 0.55463989, 0.54702083, 0.52575684,\n",
      "       0.50906062, 0.46460245, 0.42503943, 0.37822958, 0.29513532]), 'train_precision_macro': array([0.82172821, 0.82340178, 0.82368408, 0.82647069, 0.82967836,\n",
      "       0.82794999, 0.83185259, 0.83618963, 0.83222762, 0.83086226]), 'test_precision_micro': array([0.67563471, 0.67317166, 0.67146646, 0.6585828 , 0.65479348,\n",
      "       0.64929898, 0.64096249, 0.61235316, 0.57370216, 0.42364532]), 'train_precision_micro': array([0.8069976 , 0.80773441, 0.80815545, 0.80893436, 0.81051324,\n",
      "       0.81162898, 0.81329207, 0.81653404, 0.82089175, 0.83585954]), 'test_recall_macro': array([0.53969496, 0.54736922, 0.54211579, 0.52770774, 0.52500595,\n",
      "       0.50516897, 0.46099651, 0.42339004, 0.35678061, 0.25220013]), 'train_recall_macro': array([0.68510269, 0.68642179, 0.68937964, 0.68996072, 0.6932742 ,\n",
      "       0.69772138, 0.70344259, 0.70925017, 0.71799791, 0.73419836]), 'test_recall_micro': array([0.67563471, 0.67317166, 0.67146646, 0.6585828 , 0.65479348,\n",
      "       0.64929898, 0.64096249, 0.61235316, 0.57370216, 0.42364532]), 'train_recall_micro': array([0.8069976 , 0.80773441, 0.80815545, 0.80893436, 0.81051324,\n",
      "       0.81162898, 0.81329207, 0.81653404, 0.82089175, 0.83585954])}\n",
      "________________________________________________________________________________\n",
      "20 minimum references\n",
      "49335 abstracts in corpus\n",
      "504 cell lines\n",
      "Every cell line has at least 20 documents\n",
      "DTM shape: (49335, 56750)\n",
      "Top 20 words\n",
      "[('cell', 1.0172758239757513), ('line', 1.0649602088678416), ('cells', 1.244573089117951), ('human', 1.630036120926177), ('expression', 1.771674227525528), ('results', 1.7912015145247928), ('lines', 1.9524797229835447), ('study', 1.9883707259676835), ('protein', 2.083484867914292), ('using', 2.1248160960489786), ('cancer', 2.145885442898717), ('induced', 2.215101468187382), ('activity', 2.2940402785364435), ('showed', 2.3161670595623276), ('tumor', 2.3549283166792816), ('gene', 2.356737133184412), ('effect', 2.3579973727966994), ('used', 2.3693318578708062), ('vitro', 2.3710870841072964), ('growth', 2.38905477531082)]\n",
      "56750 words\n",
      "(49335, 56750) (49335, 28375)\n",
      "================================================================================\n",
      "{'fit_time': array([214.61417079, 206.15228009, 209.41230941, 207.21208119,\n",
      "       203.63728595, 212.78749394, 204.81798697, 205.68902826,\n",
      "       198.3424561 , 161.38702393]), 'score_time': array([0.26870871, 0.24756432, 0.23199892, 0.25152183, 0.25672364,\n",
      "       0.26051474, 0.25342107, 0.26093173, 0.27218747, 0.25984144]), 'estimator': (LinearSVC(C=1, class_weight=None, dual=False, fit_intercept=True,\n",
      "          intercept_scaling=1, loss='squared_hinge', max_iter=1000,\n",
      "          multi_class='ovr', penalty='l2', random_state=None, tol=0.001,\n",
      "          verbose=0), LinearSVC(C=1, class_weight=None, dual=False, fit_intercept=True,\n",
      "          intercept_scaling=1, loss='squared_hinge', max_iter=1000,\n",
      "          multi_class='ovr', penalty='l2', random_state=None, tol=0.001,\n",
      "          verbose=0), LinearSVC(C=1, class_weight=None, dual=False, fit_intercept=True,\n",
      "          intercept_scaling=1, loss='squared_hinge', max_iter=1000,\n",
      "          multi_class='ovr', penalty='l2', random_state=None, tol=0.001,\n",
      "          verbose=0), LinearSVC(C=1, class_weight=None, dual=False, fit_intercept=True,\n",
      "          intercept_scaling=1, loss='squared_hinge', max_iter=1000,\n",
      "          multi_class='ovr', penalty='l2', random_state=None, tol=0.001,\n",
      "          verbose=0), LinearSVC(C=1, class_weight=None, dual=False, fit_intercept=True,\n",
      "          intercept_scaling=1, loss='squared_hinge', max_iter=1000,\n",
      "          multi_class='ovr', penalty='l2', random_state=None, tol=0.001,\n",
      "          verbose=0), LinearSVC(C=1, class_weight=None, dual=False, fit_intercept=True,\n",
      "          intercept_scaling=1, loss='squared_hinge', max_iter=1000,\n",
      "          multi_class='ovr', penalty='l2', random_state=None, tol=0.001,\n",
      "          verbose=0), LinearSVC(C=1, class_weight=None, dual=False, fit_intercept=True,\n",
      "          intercept_scaling=1, loss='squared_hinge', max_iter=1000,\n",
      "          multi_class='ovr', penalty='l2', random_state=None, tol=0.001,\n",
      "          verbose=0), LinearSVC(C=1, class_weight=None, dual=False, fit_intercept=True,\n",
      "          intercept_scaling=1, loss='squared_hinge', max_iter=1000,\n",
      "          multi_class='ovr', penalty='l2', random_state=None, tol=0.001,\n",
      "          verbose=0), LinearSVC(C=1, class_weight=None, dual=False, fit_intercept=True,\n",
      "          intercept_scaling=1, loss='squared_hinge', max_iter=1000,\n",
      "          multi_class='ovr', penalty='l2', random_state=None, tol=0.001,\n",
      "          verbose=0), LinearSVC(C=1, class_weight=None, dual=False, fit_intercept=True,\n",
      "          intercept_scaling=1, loss='squared_hinge', max_iter=1000,\n",
      "          multi_class='ovr', penalty='l2', random_state=None, tol=0.001,\n",
      "          verbose=0)), 'test_precision_macro': array([0.66992108, 0.68008822, 0.64957685, 0.65044903, 0.6286196 ,\n",
      "       0.61329509, 0.57796398, 0.5304878 , 0.47742886, 0.37224555]), 'train_precision_macro': array([0.8413273 , 0.84333574, 0.83725011, 0.84304048, 0.84672091,\n",
      "       0.84772113, 0.84709654, 0.84829142, 0.84428212, 0.85167864]), 'test_precision_micro': array([0.70328334, 0.69760843, 0.69173085, 0.68929874, 0.68078638,\n",
      "       0.67524833, 0.6724103 , 0.64950334, 0.60510845, 0.45124671]), 'train_precision_micro': array([0.82601743, 0.82667057, 0.82714353, 0.8272111 , 0.82831468,\n",
      "       0.8300527 , 0.83045809, 0.83327328, 0.83786766, 0.85268682]), 'test_recall_macro': array([0.61642076, 0.61853593, 0.608994  , 0.6168643 , 0.59263712,\n",
      "       0.58038133, 0.55874933, 0.51773685, 0.44800291, 0.29656902]), 'train_recall_macro': array([0.74333083, 0.74500447, 0.746353  , 0.74383587, 0.74501832,\n",
      "       0.7504765 , 0.7529085 , 0.75996795, 0.76789563, 0.78706877]), 'test_recall_micro': array([0.70328334, 0.69760843, 0.69173085, 0.68929874, 0.68078638,\n",
      "       0.67524833, 0.6724103 , 0.64950334, 0.60510845, 0.45124671]), 'train_recall_micro': array([0.82601743, 0.82667057, 0.82714353, 0.8272111 , 0.82831468,\n",
      "       0.8300527 , 0.83045809, 0.83327328, 0.83786766, 0.85268682])}\n",
      "________________________________________________________________________________\n",
      "30 minimum references\n",
      "46371 abstracts in corpus\n",
      "381 cell lines\n",
      "Every cell line has at least 30 documents\n"
     ]
    },
    {
     "name": "stdout",
     "output_type": "stream",
     "text": [
      "DTM shape: (46371, 55022)\n",
      "Top 20 words\n",
      "[('cell', 1.0157360343370108), ('line', 1.0575415784544364), ('cells', 1.2393013798164465), ('human', 1.6335429644051906), ('expression', 1.7678060346364375), ('results', 1.7869963389842216), ('lines', 1.9743806686945156), ('study', 1.9774134883920622), ('protein', 2.075989928480147), ('using', 2.123724423386877), ('cancer', 2.16082452607018), ('induced', 2.2014313974315973), ('activity', 2.2800888648549638), ('showed', 2.3123281101392408), ('effect', 2.3423340202493996), ('gene', 2.3620078792144863), ('tumor', 2.362176271906642), ('vitro', 2.3653811325396217), ('used', 2.368342092361223), ('growth', 2.3907899163698874)]\n",
      "55022 words\n",
      "(46371, 55022) (46371, 27511)\n",
      "================================================================================\n",
      "{'fit_time': array([146.02432036, 145.07971859, 143.29638362, 140.96485114,\n",
      "       141.5391686 , 142.72426319, 141.15292573, 136.49932623,\n",
      "       131.20345211, 110.16100264]), 'score_time': array([0.22094297, 0.21684837, 0.2277987 , 0.19954371, 0.20185137,\n",
      "       0.22125888, 0.19417143, 0.1961534 , 0.21105719, 0.20405316]), 'estimator': (LinearSVC(C=1, class_weight=None, dual=False, fit_intercept=True,\n",
      "          intercept_scaling=1, loss='squared_hinge', max_iter=1000,\n",
      "          multi_class='ovr', penalty='l2', random_state=None, tol=0.001,\n",
      "          verbose=0), LinearSVC(C=1, class_weight=None, dual=False, fit_intercept=True,\n",
      "          intercept_scaling=1, loss='squared_hinge', max_iter=1000,\n",
      "          multi_class='ovr', penalty='l2', random_state=None, tol=0.001,\n",
      "          verbose=0), LinearSVC(C=1, class_weight=None, dual=False, fit_intercept=True,\n",
      "          intercept_scaling=1, loss='squared_hinge', max_iter=1000,\n",
      "          multi_class='ovr', penalty='l2', random_state=None, tol=0.001,\n",
      "          verbose=0), LinearSVC(C=1, class_weight=None, dual=False, fit_intercept=True,\n",
      "          intercept_scaling=1, loss='squared_hinge', max_iter=1000,\n",
      "          multi_class='ovr', penalty='l2', random_state=None, tol=0.001,\n",
      "          verbose=0), LinearSVC(C=1, class_weight=None, dual=False, fit_intercept=True,\n",
      "          intercept_scaling=1, loss='squared_hinge', max_iter=1000,\n",
      "          multi_class='ovr', penalty='l2', random_state=None, tol=0.001,\n",
      "          verbose=0), LinearSVC(C=1, class_weight=None, dual=False, fit_intercept=True,\n",
      "          intercept_scaling=1, loss='squared_hinge', max_iter=1000,\n",
      "          multi_class='ovr', penalty='l2', random_state=None, tol=0.001,\n",
      "          verbose=0), LinearSVC(C=1, class_weight=None, dual=False, fit_intercept=True,\n",
      "          intercept_scaling=1, loss='squared_hinge', max_iter=1000,\n",
      "          multi_class='ovr', penalty='l2', random_state=None, tol=0.001,\n",
      "          verbose=0), LinearSVC(C=1, class_weight=None, dual=False, fit_intercept=True,\n",
      "          intercept_scaling=1, loss='squared_hinge', max_iter=1000,\n",
      "          multi_class='ovr', penalty='l2', random_state=None, tol=0.001,\n",
      "          verbose=0), LinearSVC(C=1, class_weight=None, dual=False, fit_intercept=True,\n",
      "          intercept_scaling=1, loss='squared_hinge', max_iter=1000,\n",
      "          multi_class='ovr', penalty='l2', random_state=None, tol=0.001,\n",
      "          verbose=0), LinearSVC(C=1, class_weight=None, dual=False, fit_intercept=True,\n",
      "          intercept_scaling=1, loss='squared_hinge', max_iter=1000,\n",
      "          multi_class='ovr', penalty='l2', random_state=None, tol=0.001,\n",
      "          verbose=0)), 'test_precision_macro': array([0.72461565, 0.71382646, 0.68925859, 0.68284083, 0.65764816,\n",
      "       0.66499539, 0.64639756, 0.59413914, 0.55764608, 0.43422009]), 'train_precision_macro': array([0.84779874, 0.85314235, 0.84893981, 0.85505127, 0.85293766,\n",
      "       0.85691462, 0.85686183, 0.85701066, 0.86129265, 0.8638326 ]), 'test_precision_micro': array([0.72746874, 0.71921501, 0.71770541, 0.70023722, 0.70153116,\n",
      "       0.69872763, 0.697865  , 0.67284882, 0.63683416, 0.48091438]), 'train_precision_micro': array([0.84125273, 0.84202329, 0.84209517, 0.84336512, 0.84360473,\n",
      "       0.84499449, 0.84489864, 0.84794173, 0.85211099, 0.8665836 ]), 'test_recall_macro': array([0.67728349, 0.65682272, 0.66858013, 0.64633218, 0.63772256,\n",
      "       0.62946086, 0.62043525, 0.57051466, 0.51307925, 0.35021362]), 'train_recall_macro': array([0.78193611, 0.78296802, 0.78374088, 0.78342199, 0.78525477,\n",
      "       0.78800293, 0.78863352, 0.79676394, 0.80209039, 0.82356251]), 'test_recall_micro': array([0.72746874, 0.71921501, 0.71770541, 0.70023722, 0.70153116,\n",
      "       0.69872763, 0.697865  , 0.67284882, 0.63683416, 0.48091438]), 'train_recall_micro': array([0.84125273, 0.84202329, 0.84209517, 0.84336512, 0.84360473,\n",
      "       0.84499449, 0.84489864, 0.84794173, 0.85211099, 0.8665836 ])}\n",
      "________________________________________________________________________________\n",
      "40 minimum references\n",
      "43773 abstracts in corpus\n",
      "305 cell lines\n",
      "Every cell line has at least 40 documents\n",
      "DTM shape: (43773, 53440)\n",
      "Top 20 words\n",
      "[('cell', 1.0153778352642715), ('line', 1.0532261319148946), ('cells', 1.2369509134622565), ('human', 1.6377366369486837), ('expression', 1.7656643250953072), ('results', 1.7822583111323311), ('study', 1.970782572302658), ('lines', 1.9898400457769154), ('protein', 2.0729918353903565), ('using', 2.1213712622806082), ('cancer', 2.168896714371277), ('induced', 2.1975361540462237), ('activity', 2.274412459421692), ('showed', 2.305868640252314), ('effect', 2.3363452328432026), ('vitro', 2.3578722250009), ('used', 2.3618770361204127), ('gene', 2.366435295789298), ('tumor', 2.370654521941636), ('treatment', 2.4012547082649123)]\n",
      "53440 words\n",
      "(43773, 53440) (43773, 26720)\n",
      "================================================================================\n",
      "{'fit_time': array([104.5679419 , 104.73953581, 104.02389669, 103.85311127,\n",
      "       104.40672493, 105.72791696, 105.79963851, 102.80736065,\n",
      "        98.42264581,  83.16849637]), 'score_time': array([0.19624925, 0.19728065, 0.19265246, 0.18853784, 0.18674898,\n",
      "       0.18791151, 0.18729973, 0.19102216, 0.18177629, 0.19155788]), 'estimator': (LinearSVC(C=1, class_weight=None, dual=False, fit_intercept=True,\n",
      "          intercept_scaling=1, loss='squared_hinge', max_iter=1000,\n",
      "          multi_class='ovr', penalty='l2', random_state=None, tol=0.001,\n",
      "          verbose=0), LinearSVC(C=1, class_weight=None, dual=False, fit_intercept=True,\n",
      "          intercept_scaling=1, loss='squared_hinge', max_iter=1000,\n",
      "          multi_class='ovr', penalty='l2', random_state=None, tol=0.001,\n",
      "          verbose=0), LinearSVC(C=1, class_weight=None, dual=False, fit_intercept=True,\n",
      "          intercept_scaling=1, loss='squared_hinge', max_iter=1000,\n",
      "          multi_class='ovr', penalty='l2', random_state=None, tol=0.001,\n",
      "          verbose=0), LinearSVC(C=1, class_weight=None, dual=False, fit_intercept=True,\n",
      "          intercept_scaling=1, loss='squared_hinge', max_iter=1000,\n",
      "          multi_class='ovr', penalty='l2', random_state=None, tol=0.001,\n",
      "          verbose=0), LinearSVC(C=1, class_weight=None, dual=False, fit_intercept=True,\n",
      "          intercept_scaling=1, loss='squared_hinge', max_iter=1000,\n",
      "          multi_class='ovr', penalty='l2', random_state=None, tol=0.001,\n",
      "          verbose=0), LinearSVC(C=1, class_weight=None, dual=False, fit_intercept=True,\n",
      "          intercept_scaling=1, loss='squared_hinge', max_iter=1000,\n",
      "          multi_class='ovr', penalty='l2', random_state=None, tol=0.001,\n",
      "          verbose=0), LinearSVC(C=1, class_weight=None, dual=False, fit_intercept=True,\n",
      "          intercept_scaling=1, loss='squared_hinge', max_iter=1000,\n",
      "          multi_class='ovr', penalty='l2', random_state=None, tol=0.001,\n",
      "          verbose=0), LinearSVC(C=1, class_weight=None, dual=False, fit_intercept=True,\n",
      "          intercept_scaling=1, loss='squared_hinge', max_iter=1000,\n",
      "          multi_class='ovr', penalty='l2', random_state=None, tol=0.001,\n",
      "          verbose=0), LinearSVC(C=1, class_weight=None, dual=False, fit_intercept=True,\n",
      "          intercept_scaling=1, loss='squared_hinge', max_iter=1000,\n",
      "          multi_class='ovr', penalty='l2', random_state=None, tol=0.001,\n",
      "          verbose=0), LinearSVC(C=1, class_weight=None, dual=False, fit_intercept=True,\n",
      "          intercept_scaling=1, loss='squared_hinge', max_iter=1000,\n",
      "          multi_class='ovr', penalty='l2', random_state=None, tol=0.001,\n",
      "          verbose=0)), 'test_precision_macro': array([0.73017762, 0.72247121, 0.69622676, 0.69932405, 0.68627667,\n",
      "       0.68504408, 0.66927482, 0.63346468, 0.60367276, 0.48932831]), 'train_precision_macro': array([0.855267  , 0.85619239, 0.85383931, 0.85962714, 0.85682862,\n",
      "       0.85631347, 0.86306081, 0.86578821, 0.8638601 , 0.87019952]), 'test_precision_micro': array([0.74189127, 0.73321151, 0.73047053, 0.71921407, 0.7155586 ,\n",
      "       0.71304546, 0.71327393, 0.69773818, 0.65889879, 0.50285584]), 'train_precision_micro': array([0.85198629, 0.85295088, 0.85267166, 0.85402071, 0.85427455,\n",
      "       0.85511219, 0.85554371, 0.85726977, 0.86158493, 0.87549497]), 'test_recall_macro': array([0.69515458, 0.68222172, 0.68065747, 0.67245724, 0.65676594,\n",
      "       0.65018145, 0.65328843, 0.62164839, 0.56029554, 0.39544756]), 'train_recall_macro': array([0.80269939, 0.80473387, 0.80420191, 0.80366508, 0.80584524,\n",
      "       0.8076681 , 0.80868899, 0.81271106, 0.81937487, 0.83919058]), 'test_recall_micro': array([0.74189127, 0.73321151, 0.73047053, 0.71921407, 0.7155586 ,\n",
      "       0.71304546, 0.71327393, 0.69773818, 0.65889879, 0.50285584]), 'train_recall_micro': array([0.85198629, 0.85295088, 0.85267166, 0.85402071, 0.85427455,\n",
      "       0.85511219, 0.85554371, 0.85726977, 0.86158493, 0.87549497])}\n",
      "________________________________________________________________________________\n",
      "50 minimum references\n",
      "41842 abstracts in corpus\n",
      "261 cell lines\n",
      "Every cell line has at least 50 documents\n"
     ]
    },
    {
     "name": "stdout",
     "output_type": "stream",
     "text": [
      "DTM shape: (41842, 52270)\n",
      "Top 20 words\n",
      "[('cell', 1.0143946255943683), ('line', 1.048626470376825), ('cells', 1.231947095961191), ('human', 1.6426548186440084), ('expression', 1.7666431615270874), ('results', 1.7792746904543022), ('study', 1.965720394985106), ('lines', 2.006529311541077), ('protein', 2.068642649655791), ('using', 2.1190135225484767), ('cancer', 2.1840887992555746), ('induced', 2.188863946299316), ('activity', 2.270411761806735), ('showed', 2.2989962389253042), ('effect', 2.3273398358945325), ('vitro', 2.356603079799), ('used', 2.3566958829172515), ('gene', 2.3712796694853546), ('tumor', 2.375999330879853), ('treatment', 2.395103933330922)]\n",
      "52270 words\n",
      "(41842, 52270) (41842, 26135)\n",
      "================================================================================\n",
      "{'fit_time': array([80.69940138, 82.52954149, 80.57159686, 79.69712973, 80.22838593,\n",
      "       79.91130972, 81.73955727, 81.52156734, 80.92722368, 66.06071162]), 'score_time': array([0.17112255, 0.15520406, 0.15700006, 0.16232848, 0.15668416,\n",
      "       0.15690422, 0.15780425, 0.16134548, 0.16143107, 0.15916491]), 'estimator': (LinearSVC(C=1, class_weight=None, dual=False, fit_intercept=True,\n",
      "          intercept_scaling=1, loss='squared_hinge', max_iter=1000,\n",
      "          multi_class='ovr', penalty='l2', random_state=None, tol=0.001,\n",
      "          verbose=0), LinearSVC(C=1, class_weight=None, dual=False, fit_intercept=True,\n",
      "          intercept_scaling=1, loss='squared_hinge', max_iter=1000,\n",
      "          multi_class='ovr', penalty='l2', random_state=None, tol=0.001,\n",
      "          verbose=0), LinearSVC(C=1, class_weight=None, dual=False, fit_intercept=True,\n",
      "          intercept_scaling=1, loss='squared_hinge', max_iter=1000,\n",
      "          multi_class='ovr', penalty='l2', random_state=None, tol=0.001,\n",
      "          verbose=0), LinearSVC(C=1, class_weight=None, dual=False, fit_intercept=True,\n",
      "          intercept_scaling=1, loss='squared_hinge', max_iter=1000,\n",
      "          multi_class='ovr', penalty='l2', random_state=None, tol=0.001,\n",
      "          verbose=0), LinearSVC(C=1, class_weight=None, dual=False, fit_intercept=True,\n",
      "          intercept_scaling=1, loss='squared_hinge', max_iter=1000,\n",
      "          multi_class='ovr', penalty='l2', random_state=None, tol=0.001,\n",
      "          verbose=0), LinearSVC(C=1, class_weight=None, dual=False, fit_intercept=True,\n",
      "          intercept_scaling=1, loss='squared_hinge', max_iter=1000,\n",
      "          multi_class='ovr', penalty='l2', random_state=None, tol=0.001,\n",
      "          verbose=0), LinearSVC(C=1, class_weight=None, dual=False, fit_intercept=True,\n",
      "          intercept_scaling=1, loss='squared_hinge', max_iter=1000,\n",
      "          multi_class='ovr', penalty='l2', random_state=None, tol=0.001,\n",
      "          verbose=0), LinearSVC(C=1, class_weight=None, dual=False, fit_intercept=True,\n",
      "          intercept_scaling=1, loss='squared_hinge', max_iter=1000,\n",
      "          multi_class='ovr', penalty='l2', random_state=None, tol=0.001,\n",
      "          verbose=0), LinearSVC(C=1, class_weight=None, dual=False, fit_intercept=True,\n",
      "          intercept_scaling=1, loss='squared_hinge', max_iter=1000,\n",
      "          multi_class='ovr', penalty='l2', random_state=None, tol=0.001,\n",
      "          verbose=0), LinearSVC(C=1, class_weight=None, dual=False, fit_intercept=True,\n",
      "          intercept_scaling=1, loss='squared_hinge', max_iter=1000,\n",
      "          multi_class='ovr', penalty='l2', random_state=None, tol=0.001,\n",
      "          verbose=0)), 'test_precision_macro': array([0.72857891, 0.72331792, 0.71299505, 0.70847397, 0.69795815,\n",
      "       0.72037381, 0.68462908, 0.666498  , 0.6249392 , 0.52092947]), 'train_precision_macro': array([0.86311273, 0.86258651, 0.86127094, 0.8630574 , 0.86432349,\n",
      "       0.86169306, 0.86548241, 0.86933924, 0.87099348, 0.87797972]), 'test_precision_micro': array([0.75173238, 0.74313023, 0.74211281, 0.72777247, 0.72777247,\n",
      "       0.72992352, 0.72562141, 0.71271511, 0.67734226, 0.5248566 ]), 'train_precision_micro': array([0.86138035, 0.86228324, 0.86207446, 0.86324287, 0.86358808,\n",
      "       0.86385363, 0.86430506, 0.86584524, 0.87001434, 0.88315896]), 'test_recall_macro': array([0.70443406, 0.69394952, 0.69763834, 0.6832501 , 0.67795444,\n",
      "       0.68000314, 0.66959281, 0.64892362, 0.59483823, 0.43045944]), 'train_recall_macro': array([0.82267639, 0.82410859, 0.82363978, 0.82297525, 0.82472023,\n",
      "       0.82547242, 0.82715867, 0.82983601, 0.83681762, 0.85472603]), 'test_recall_micro': array([0.75173238, 0.74313023, 0.74211281, 0.72777247, 0.72777247,\n",
      "       0.72992352, 0.72562141, 0.71271511, 0.67734226, 0.5248566 ]), 'train_recall_micro': array([0.86138035, 0.86228324, 0.86207446, 0.86324287, 0.86358808,\n",
      "       0.86385363, 0.86430506, 0.86584524, 0.87001434, 0.88315896])}\n",
      "________________________________________________________________________________\n",
      "60 minimum references\n",
      "39883 abstracts in corpus\n",
      "225 cell lines\n",
      "Every cell line has at least 60 documents\n",
      "DTM shape: (39883, 51005)\n",
      "Top 20 words\n",
      "[('cell', 1.0141910822812474), ('line', 1.0459709546347469), ('cells', 1.2287756691891063), ('human', 1.6468482850933666), ('expression', 1.763781870747426), ('results', 1.7786917405976688), ('study', 1.962248560479329), ('lines', 2.0209717294067024), ('protein', 2.064209408461349), ('using', 2.116650852540645), ('induced', 2.1808575505624157), ('cancer', 2.1928524364072057), ('activity', 2.2655182273776115), ('showed', 2.300981011731783), ('effect', 2.3202275730148605), ('vitro', 2.354997073471283), ('used', 2.3614329806204584), ('gene', 2.370868867418829), ('tumor', 2.383990328044533), ('treatment', 2.394855626081779)]\n",
      "51005 words\n",
      "(39883, 51005) (39883, 25503)\n",
      "================================================================================\n",
      "{'fit_time': array([65.68074012, 65.56440115, 66.89622092, 68.67138386, 67.99179673,\n",
      "       65.37162757, 64.51767397, 66.51738834, 66.47368479, 56.21384621]), 'score_time': array([0.14283562, 0.1453495 , 0.14861107, 0.13495636, 0.14191842,\n",
      "       0.13651013, 0.13876104, 0.14061999, 0.13944912, 0.15219855]), 'estimator': (LinearSVC(C=1, class_weight=None, dual=False, fit_intercept=True,\n",
      "          intercept_scaling=1, loss='squared_hinge', max_iter=1000,\n",
      "          multi_class='ovr', penalty='l2', random_state=None, tol=0.001,\n",
      "          verbose=0), LinearSVC(C=1, class_weight=None, dual=False, fit_intercept=True,\n",
      "          intercept_scaling=1, loss='squared_hinge', max_iter=1000,\n",
      "          multi_class='ovr', penalty='l2', random_state=None, tol=0.001,\n",
      "          verbose=0), LinearSVC(C=1, class_weight=None, dual=False, fit_intercept=True,\n",
      "          intercept_scaling=1, loss='squared_hinge', max_iter=1000,\n",
      "          multi_class='ovr', penalty='l2', random_state=None, tol=0.001,\n",
      "          verbose=0), LinearSVC(C=1, class_weight=None, dual=False, fit_intercept=True,\n",
      "          intercept_scaling=1, loss='squared_hinge', max_iter=1000,\n",
      "          multi_class='ovr', penalty='l2', random_state=None, tol=0.001,\n",
      "          verbose=0), LinearSVC(C=1, class_weight=None, dual=False, fit_intercept=True,\n",
      "          intercept_scaling=1, loss='squared_hinge', max_iter=1000,\n",
      "          multi_class='ovr', penalty='l2', random_state=None, tol=0.001,\n",
      "          verbose=0), LinearSVC(C=1, class_weight=None, dual=False, fit_intercept=True,\n",
      "          intercept_scaling=1, loss='squared_hinge', max_iter=1000,\n",
      "          multi_class='ovr', penalty='l2', random_state=None, tol=0.001,\n",
      "          verbose=0), LinearSVC(C=1, class_weight=None, dual=False, fit_intercept=True,\n",
      "          intercept_scaling=1, loss='squared_hinge', max_iter=1000,\n",
      "          multi_class='ovr', penalty='l2', random_state=None, tol=0.001,\n",
      "          verbose=0), LinearSVC(C=1, class_weight=None, dual=False, fit_intercept=True,\n",
      "          intercept_scaling=1, loss='squared_hinge', max_iter=1000,\n",
      "          multi_class='ovr', penalty='l2', random_state=None, tol=0.001,\n",
      "          verbose=0), LinearSVC(C=1, class_weight=None, dual=False, fit_intercept=True,\n",
      "          intercept_scaling=1, loss='squared_hinge', max_iter=1000,\n",
      "          multi_class='ovr', penalty='l2', random_state=None, tol=0.001,\n",
      "          verbose=0), LinearSVC(C=1, class_weight=None, dual=False, fit_intercept=True,\n",
      "          intercept_scaling=1, loss='squared_hinge', max_iter=1000,\n",
      "          multi_class='ovr', penalty='l2', random_state=None, tol=0.001,\n",
      "          verbose=0)), 'test_precision_macro': array([0.72715281, 0.720476  , 0.72953042, 0.71292768, 0.71025715,\n",
      "       0.71956324, 0.70130416, 0.68300688, 0.64285742, 0.55532249]), 'train_precision_macro': array([0.86527552, 0.86616619, 0.86767357, 0.86881054, 0.87084322,\n",
      "       0.86682788, 0.8729892 , 0.87313778, 0.87449232, 0.8802991 ]), 'test_precision_micro': array([0.75808473, 0.75382301, 0.75557784, 0.73721163, 0.73821464,\n",
      "       0.73821464, 0.73771314, 0.72392177, 0.69182548, 0.54638917]), 'train_precision_micro': array([0.86839026, 0.86894746, 0.86894746, 0.87006547, 0.87039978,\n",
      "       0.87070623, 0.87056693, 0.87232205, 0.87597158, 0.88775595]), 'test_recall_macro': array([0.7089759 , 0.70366977, 0.71834949, 0.69441218, 0.68588497,\n",
      "       0.68809621, 0.68767761, 0.66693146, 0.61611929, 0.46697591]), 'train_recall_macro': array([0.83317372, 0.83342414, 0.83338613, 0.8334522 , 0.8348709 ,\n",
      "       0.83622121, 0.83526837, 0.83908023, 0.84467602, 0.85943772]), 'test_recall_micro': array([0.75808473, 0.75382301, 0.75557784, 0.73721163, 0.73821464,\n",
      "       0.73821464, 0.73771314, 0.72392177, 0.69182548, 0.54638917]), 'train_recall_micro': array([0.86839026, 0.86894746, 0.86894746, 0.87006547, 0.87039978,\n",
      "       0.87070623, 0.87056693, 0.87232205, 0.87597158, 0.88775595])}\n",
      "________________________________________________________________________________\n",
      "70 minimum references\n",
      "38003 abstracts in corpus\n",
      "196 cell lines\n",
      "Every cell line has at least 71 documents\n"
     ]
    },
    {
     "name": "stdout",
     "output_type": "stream",
     "text": [
      "DTM shape: (38003, 49771)\n",
      "Top 20 words\n",
      "[('cell', 1.0137505643894777), ('line', 1.043177589266288), ('cells', 1.2252244434241168), ('human', 1.6531717710046152), ('expression', 1.7609116129678055), ('results', 1.7776643259558873), ('study', 1.9579035259602646), ('lines', 2.0398281752770484), ('protein', 2.058308268500755), ('using', 2.116131449908467), ('induced', 2.1727324053661987), ('cancer', 2.2114737639051825), ('activity', 2.2606484134324476), ('showed', 2.3009947947216896), ('effect', 2.318150883701044), ('vitro', 2.355411077690822), ('used', 2.361142338901299), ('gene', 2.369283776152044), ('tumor', 2.3898793501977487), ('treatment', 2.394856328756231)]\n",
      "49771 words\n",
      "(38003, 49771) (38003, 24886)\n",
      "================================================================================\n",
      "{'fit_time': array([51.40712905, 51.01124287, 50.60030746, 50.42275858, 53.36476946,\n",
      "       53.73623991, 51.70034742, 53.46222138, 51.26598072, 47.96176481]), 'score_time': array([0.13077974, 0.13205528, 0.13137984, 0.1317935 , 0.13277888,\n",
      "       0.10595608, 0.12898135, 0.13428712, 0.13164544, 0.13750768]), 'estimator': (LinearSVC(C=1, class_weight=None, dual=False, fit_intercept=True,\n",
      "          intercept_scaling=1, loss='squared_hinge', max_iter=1000,\n",
      "          multi_class='ovr', penalty='l2', random_state=None, tol=0.001,\n",
      "          verbose=0), LinearSVC(C=1, class_weight=None, dual=False, fit_intercept=True,\n",
      "          intercept_scaling=1, loss='squared_hinge', max_iter=1000,\n",
      "          multi_class='ovr', penalty='l2', random_state=None, tol=0.001,\n",
      "          verbose=0), LinearSVC(C=1, class_weight=None, dual=False, fit_intercept=True,\n",
      "          intercept_scaling=1, loss='squared_hinge', max_iter=1000,\n",
      "          multi_class='ovr', penalty='l2', random_state=None, tol=0.001,\n",
      "          verbose=0), LinearSVC(C=1, class_weight=None, dual=False, fit_intercept=True,\n",
      "          intercept_scaling=1, loss='squared_hinge', max_iter=1000,\n",
      "          multi_class='ovr', penalty='l2', random_state=None, tol=0.001,\n",
      "          verbose=0), LinearSVC(C=1, class_weight=None, dual=False, fit_intercept=True,\n",
      "          intercept_scaling=1, loss='squared_hinge', max_iter=1000,\n",
      "          multi_class='ovr', penalty='l2', random_state=None, tol=0.001,\n",
      "          verbose=0), LinearSVC(C=1, class_weight=None, dual=False, fit_intercept=True,\n",
      "          intercept_scaling=1, loss='squared_hinge', max_iter=1000,\n",
      "          multi_class='ovr', penalty='l2', random_state=None, tol=0.001,\n",
      "          verbose=0), LinearSVC(C=1, class_weight=None, dual=False, fit_intercept=True,\n",
      "          intercept_scaling=1, loss='squared_hinge', max_iter=1000,\n",
      "          multi_class='ovr', penalty='l2', random_state=None, tol=0.001,\n",
      "          verbose=0), LinearSVC(C=1, class_weight=None, dual=False, fit_intercept=True,\n",
      "          intercept_scaling=1, loss='squared_hinge', max_iter=1000,\n",
      "          multi_class='ovr', penalty='l2', random_state=None, tol=0.001,\n",
      "          verbose=0), LinearSVC(C=1, class_weight=None, dual=False, fit_intercept=True,\n",
      "          intercept_scaling=1, loss='squared_hinge', max_iter=1000,\n",
      "          multi_class='ovr', penalty='l2', random_state=None, tol=0.001,\n",
      "          verbose=0), LinearSVC(C=1, class_weight=None, dual=False, fit_intercept=True,\n",
      "          intercept_scaling=1, loss='squared_hinge', max_iter=1000,\n",
      "          multi_class='ovr', penalty='l2', random_state=None, tol=0.001,\n",
      "          verbose=0)), 'test_precision_macro': array([0.75743883, 0.73997059, 0.74489976, 0.73678379, 0.73544921,\n",
      "       0.73721003, 0.73184733, 0.71525358, 0.6818834 , 0.58728639]), 'train_precision_macro': array([0.87964805, 0.88358632, 0.88231538, 0.8828056 , 0.88214675,\n",
      "       0.884137  , 0.88560189, 0.88852788, 0.88849604, 0.89409506]), 'test_precision_micro': array([0.77611155, 0.76900816, 0.76821889, 0.75815789, 0.75447368,\n",
      "       0.75210526, 0.75657895, 0.74657895, 0.715     , 0.56736842]), 'train_precision_micro': array([0.87936378, 0.88018245, 0.88032864, 0.88120925, 0.88158933,\n",
      "       0.88220332, 0.88167705, 0.88296348, 0.88623805, 0.89790369]), 'test_recall_macro': array([0.73898977, 0.72936011, 0.73624328, 0.73073977, 0.71043718,\n",
      "       0.71193384, 0.72045338, 0.70258236, 0.65849678, 0.50772403]), 'train_recall_macro': array([0.854781  , 0.85507581, 0.85577087, 0.85593944, 0.85823524,\n",
      "       0.8587765 , 0.85746818, 0.86015152, 0.86439522, 0.87889985]), 'test_recall_micro': array([0.77611155, 0.76900816, 0.76821889, 0.75815789, 0.75447368,\n",
      "       0.75210526, 0.75657895, 0.74657895, 0.715     , 0.56736842]), 'train_recall_micro': array([0.87936378, 0.88018245, 0.88032864, 0.88120925, 0.88158933,\n",
      "       0.88220332, 0.88167705, 0.88296348, 0.88623805, 0.89790369])}\n",
      "________________________________________________________________________________\n",
      "80 minimum references\n",
      "36406 abstracts in corpus\n",
      "175 cell lines\n",
      "Every cell line has at least 80 documents\n",
      "DTM shape: (36406, 48592)\n",
      "Top 20 words\n",
      "[('cell', 1.0137174085997203), ('line', 1.042045034545184), ('cells', 1.22519195764227), ('human', 1.6520604368440632), ('expression', 1.7601956930138154), ('results', 1.7743350121923074), ('study', 1.9517117129614525), ('lines', 2.050956772810763), ('protein', 2.057736459796142), ('using', 2.114280863011162), ('induced', 2.1645746262584815), ('cancer', 2.2081105957345355), ('activity', 2.2544949038845146), ('showed', 2.2980934446162404), ('effect', 2.314114878370957), ('vitro', 2.353732276551309), ('used', 2.3634571728571667), ('gene', 2.372302015331488), ('treatment', 2.3879162431330387), ('tumor', 2.3903402196394343)]\n",
      "48592 words\n",
      "(36406, 48592) (36406, 24296)\n",
      "================================================================================\n",
      "{'fit_time': array([43.37636757, 43.69258118, 43.29720306, 43.65740204, 43.22299457,\n",
      "       44.98370647, 43.64054871, 44.39379454, 42.85742712, 39.75282097]), 'score_time': array([0.11288095, 0.11094356, 0.10904837, 0.11270094, 0.10803533,\n",
      "       0.10830402, 0.11343932, 0.11346364, 0.11295605, 0.12125921]), 'estimator': (LinearSVC(C=1, class_weight=None, dual=False, fit_intercept=True,\n",
      "          intercept_scaling=1, loss='squared_hinge', max_iter=1000,\n",
      "          multi_class='ovr', penalty='l2', random_state=None, tol=0.001,\n",
      "          verbose=0), LinearSVC(C=1, class_weight=None, dual=False, fit_intercept=True,\n",
      "          intercept_scaling=1, loss='squared_hinge', max_iter=1000,\n",
      "          multi_class='ovr', penalty='l2', random_state=None, tol=0.001,\n",
      "          verbose=0), LinearSVC(C=1, class_weight=None, dual=False, fit_intercept=True,\n",
      "          intercept_scaling=1, loss='squared_hinge', max_iter=1000,\n",
      "          multi_class='ovr', penalty='l2', random_state=None, tol=0.001,\n",
      "          verbose=0), LinearSVC(C=1, class_weight=None, dual=False, fit_intercept=True,\n",
      "          intercept_scaling=1, loss='squared_hinge', max_iter=1000,\n",
      "          multi_class='ovr', penalty='l2', random_state=None, tol=0.001,\n",
      "          verbose=0), LinearSVC(C=1, class_weight=None, dual=False, fit_intercept=True,\n",
      "          intercept_scaling=1, loss='squared_hinge', max_iter=1000,\n",
      "          multi_class='ovr', penalty='l2', random_state=None, tol=0.001,\n",
      "          verbose=0), LinearSVC(C=1, class_weight=None, dual=False, fit_intercept=True,\n",
      "          intercept_scaling=1, loss='squared_hinge', max_iter=1000,\n",
      "          multi_class='ovr', penalty='l2', random_state=None, tol=0.001,\n",
      "          verbose=0), LinearSVC(C=1, class_weight=None, dual=False, fit_intercept=True,\n",
      "          intercept_scaling=1, loss='squared_hinge', max_iter=1000,\n",
      "          multi_class='ovr', penalty='l2', random_state=None, tol=0.001,\n",
      "          verbose=0), LinearSVC(C=1, class_weight=None, dual=False, fit_intercept=True,\n",
      "          intercept_scaling=1, loss='squared_hinge', max_iter=1000,\n",
      "          multi_class='ovr', penalty='l2', random_state=None, tol=0.001,\n",
      "          verbose=0), LinearSVC(C=1, class_weight=None, dual=False, fit_intercept=True,\n",
      "          intercept_scaling=1, loss='squared_hinge', max_iter=1000,\n",
      "          multi_class='ovr', penalty='l2', random_state=None, tol=0.001,\n",
      "          verbose=0), LinearSVC(C=1, class_weight=None, dual=False, fit_intercept=True,\n",
      "          intercept_scaling=1, loss='squared_hinge', max_iter=1000,\n",
      "          multi_class='ovr', penalty='l2', random_state=None, tol=0.001,\n",
      "          verbose=0)), 'test_precision_macro': array([0.77805094, 0.75398821, 0.76571987, 0.7503347 , 0.74148005,\n",
      "       0.75375391, 0.74712028, 0.72968534, 0.70023233, 0.60719163]), 'train_precision_macro': array([0.88299778, 0.88515887, 0.88563605, 0.88787579, 0.88433537,\n",
      "       0.88526913, 0.88804209, 0.8903134 , 0.89154527, 0.8968748 ]), 'test_precision_micro': array([0.78961824, 0.78082944, 0.78028014, 0.7657237 , 0.7657237 ,\n",
      "       0.76270255, 0.76950549, 0.76016484, 0.7282967 , 0.58543956]), 'train_precision_micro': array([0.88408363, 0.8850908 , 0.88515184, 0.88655578, 0.8867389 ,\n",
      "       0.88713566, 0.8866508 , 0.88778002, 0.89141183, 0.90175792]), 'test_recall_macro': array([0.76090737, 0.74839691, 0.75351798, 0.73813021, 0.72639542,\n",
      "       0.72765452, 0.74022174, 0.72434805, 0.68109512, 0.53330052]), 'train_recall_macro': array([0.86215102, 0.86228873, 0.86348095, 0.86346028, 0.86632333,\n",
      "       0.86577131, 0.86553424, 0.86743331, 0.87209036, 0.88398255]), 'test_recall_micro': array([0.78961824, 0.78082944, 0.78028014, 0.7657237 , 0.7657237 ,\n",
      "       0.76270255, 0.76950549, 0.76016484, 0.7282967 , 0.58543956]), 'train_recall_micro': array([0.88408363, 0.8850908 , 0.88515184, 0.88655578, 0.8867389 ,\n",
      "       0.88713566, 0.8866508 , 0.88778002, 0.89141183, 0.90175792])}\n",
      "________________________________________________________________________________\n",
      "90 minimum references\n",
      "34637 abstracts in corpus\n",
      "154 cell lines\n",
      "Every cell line has at least 91 documents\n"
     ]
    },
    {
     "name": "stdout",
     "output_type": "stream",
     "text": [
      "DTM shape: (34637, 47225)\n",
      "Top 20 words\n",
      "[('cell', 1.013281411172015), ('line', 1.0402050880161373), ('cells', 1.2228332466719438), ('human', 1.653358111494006), ('expression', 1.760928245441407), ('results', 1.771238255405361), ('study', 1.9511155549839998), ('lines', 2.0598780427395305), ('protein', 2.0617962285576574), ('using', 2.1145888823709793), ('induced', 2.1613394136704325), ('cancer', 2.2148483662760667), ('activity', 2.2526186287771575), ('showed', 2.2983018846431094), ('effect', 2.3101099043993254), ('vitro', 2.3489497377155892), ('used', 2.3606994392746703), ('gene', 2.3741848269336536), ('treatment', 2.3877389053285585), ('increased', 2.3948183755044825)]\n",
      "47225 words\n",
      "(34637, 47225) (34637, 23613)\n",
      "================================================================================\n",
      "{'fit_time': array([36.79046726, 35.96107841, 35.92329311, 36.35398149, 36.04188633,\n",
      "       36.92418194, 36.79533863, 35.9979713 , 35.80292988, 33.74071383]), 'score_time': array([0.10660124, 0.10466623, 0.10806656, 0.10364342, 0.11029577,\n",
      "       0.10978055, 0.0973084 , 0.10952401, 0.10477734, 0.10826755]), 'estimator': (LinearSVC(C=1, class_weight=None, dual=False, fit_intercept=True,\n",
      "          intercept_scaling=1, loss='squared_hinge', max_iter=1000,\n",
      "          multi_class='ovr', penalty='l2', random_state=None, tol=0.001,\n",
      "          verbose=0), LinearSVC(C=1, class_weight=None, dual=False, fit_intercept=True,\n",
      "          intercept_scaling=1, loss='squared_hinge', max_iter=1000,\n",
      "          multi_class='ovr', penalty='l2', random_state=None, tol=0.001,\n",
      "          verbose=0), LinearSVC(C=1, class_weight=None, dual=False, fit_intercept=True,\n",
      "          intercept_scaling=1, loss='squared_hinge', max_iter=1000,\n",
      "          multi_class='ovr', penalty='l2', random_state=None, tol=0.001,\n",
      "          verbose=0), LinearSVC(C=1, class_weight=None, dual=False, fit_intercept=True,\n",
      "          intercept_scaling=1, loss='squared_hinge', max_iter=1000,\n",
      "          multi_class='ovr', penalty='l2', random_state=None, tol=0.001,\n",
      "          verbose=0), LinearSVC(C=1, class_weight=None, dual=False, fit_intercept=True,\n",
      "          intercept_scaling=1, loss='squared_hinge', max_iter=1000,\n",
      "          multi_class='ovr', penalty='l2', random_state=None, tol=0.001,\n",
      "          verbose=0), LinearSVC(C=1, class_weight=None, dual=False, fit_intercept=True,\n",
      "          intercept_scaling=1, loss='squared_hinge', max_iter=1000,\n",
      "          multi_class='ovr', penalty='l2', random_state=None, tol=0.001,\n",
      "          verbose=0), LinearSVC(C=1, class_weight=None, dual=False, fit_intercept=True,\n",
      "          intercept_scaling=1, loss='squared_hinge', max_iter=1000,\n",
      "          multi_class='ovr', penalty='l2', random_state=None, tol=0.001,\n",
      "          verbose=0), LinearSVC(C=1, class_weight=None, dual=False, fit_intercept=True,\n",
      "          intercept_scaling=1, loss='squared_hinge', max_iter=1000,\n",
      "          multi_class='ovr', penalty='l2', random_state=None, tol=0.001,\n",
      "          verbose=0), LinearSVC(C=1, class_weight=None, dual=False, fit_intercept=True,\n",
      "          intercept_scaling=1, loss='squared_hinge', max_iter=1000,\n",
      "          multi_class='ovr', penalty='l2', random_state=None, tol=0.001,\n",
      "          verbose=0), LinearSVC(C=1, class_weight=None, dual=False, fit_intercept=True,\n",
      "          intercept_scaling=1, loss='squared_hinge', max_iter=1000,\n",
      "          multi_class='ovr', penalty='l2', random_state=None, tol=0.001,\n",
      "          verbose=0)), 'test_precision_macro': array([0.7916467 , 0.78143516, 0.79362554, 0.77769352, 0.76529298,\n",
      "       0.7699664 , 0.77888265, 0.7642284 , 0.7248605 , 0.63064924]), 'train_precision_macro': array([0.89561868, 0.89678813, 0.89588177, 0.89535682, 0.89707756,\n",
      "       0.89877931, 0.89806533, 0.89987165, 0.90300909, 0.91020288]), 'test_precision_micro': array([0.80225173, 0.79878753, 0.7993649 , 0.78493072, 0.7817552 ,\n",
      "       0.77771363, 0.78839492, 0.77967081, 0.74530754, 0.60467802]), 'train_precision_micro': array([0.89401084, 0.89445995, 0.89442787, 0.89567895, 0.89599974,\n",
      "       0.89664132, 0.89567895, 0.89696542, 0.90033361, 0.91069481]), 'test_recall_macro': array([0.78002445, 0.77655162, 0.78515735, 0.76940869, 0.75243564,\n",
      "       0.75160565, 0.77116892, 0.75948607, 0.71085491, 0.56361727]), 'train_recall_macro': array([0.87933719, 0.87925851, 0.87905176, 0.88041804, 0.88203017,\n",
      "       0.88181991, 0.88073307, 0.88370165, 0.88727865, 0.89969565]), 'test_recall_micro': array([0.80225173, 0.79878753, 0.7993649 , 0.78493072, 0.7817552 ,\n",
      "       0.77771363, 0.78839492, 0.77967081, 0.74530754, 0.60467802]), 'train_recall_micro': array([0.89401084, 0.89445995, 0.89442787, 0.89567895, 0.89599974,\n",
      "       0.89664132, 0.89567895, 0.89696542, 0.90033361, 0.91069481])}\n",
      "________________________________________________________________________________\n",
      "100 minimum references\n",
      "33511 abstracts in corpus\n",
      "142 cell lines\n",
      "Every cell line has at least 100 documents\n",
      "DTM shape: (33511, 46332)\n",
      "Top 20 words\n",
      "[('cell', 1.0132468182210095), ('line', 1.039875021221987), ('cells', 1.2232405362032939), ('human', 1.6509034232917843), ('expression', 1.7656588367445547), ('results', 1.771321657540039), ('study', 1.9522760543310191), ('lines', 2.0611571396701676), ('protein', 2.065218146676931), ('using', 2.1172864052041946), ('induced', 2.162339489456693), ('cancer', 2.218258332220162), ('activity', 2.248371217914389), ('showed', 2.2958572520679263), ('effect', 2.3122375446585295), ('vitro', 2.3492704510781337), ('used', 2.360373965570644), ('gene', 2.373250182333052), ('treatment', 2.3904807197247964), ('tumor', 2.3907204703852587)]\n",
      "46332 words\n",
      "(33511, 46332) (33511, 23166)\n",
      "================================================================================\n",
      "{'fit_time': array([32.49101853, 31.46969724, 32.60249782, 31.43644214, 31.47343469,\n",
      "       31.73582721, 31.73032594, 32.03228498, 31.82816386, 30.105268  ]), 'score_time': array([0.09719133, 0.10044765, 0.10298228, 0.09910631, 0.10050464,\n",
      "       0.10046625, 0.10172749, 0.10030794, 0.10199833, 0.10486341]), 'estimator': (LinearSVC(C=1, class_weight=None, dual=False, fit_intercept=True,\n",
      "          intercept_scaling=1, loss='squared_hinge', max_iter=1000,\n",
      "          multi_class='ovr', penalty='l2', random_state=None, tol=0.001,\n",
      "          verbose=0), LinearSVC(C=1, class_weight=None, dual=False, fit_intercept=True,\n",
      "          intercept_scaling=1, loss='squared_hinge', max_iter=1000,\n",
      "          multi_class='ovr', penalty='l2', random_state=None, tol=0.001,\n",
      "          verbose=0), LinearSVC(C=1, class_weight=None, dual=False, fit_intercept=True,\n",
      "          intercept_scaling=1, loss='squared_hinge', max_iter=1000,\n",
      "          multi_class='ovr', penalty='l2', random_state=None, tol=0.001,\n",
      "          verbose=0), LinearSVC(C=1, class_weight=None, dual=False, fit_intercept=True,\n",
      "          intercept_scaling=1, loss='squared_hinge', max_iter=1000,\n",
      "          multi_class='ovr', penalty='l2', random_state=None, tol=0.001,\n",
      "          verbose=0), LinearSVC(C=1, class_weight=None, dual=False, fit_intercept=True,\n",
      "          intercept_scaling=1, loss='squared_hinge', max_iter=1000,\n",
      "          multi_class='ovr', penalty='l2', random_state=None, tol=0.001,\n",
      "          verbose=0), LinearSVC(C=1, class_weight=None, dual=False, fit_intercept=True,\n",
      "          intercept_scaling=1, loss='squared_hinge', max_iter=1000,\n",
      "          multi_class='ovr', penalty='l2', random_state=None, tol=0.001,\n",
      "          verbose=0), LinearSVC(C=1, class_weight=None, dual=False, fit_intercept=True,\n",
      "          intercept_scaling=1, loss='squared_hinge', max_iter=1000,\n",
      "          multi_class='ovr', penalty='l2', random_state=None, tol=0.001,\n",
      "          verbose=0), LinearSVC(C=1, class_weight=None, dual=False, fit_intercept=True,\n",
      "          intercept_scaling=1, loss='squared_hinge', max_iter=1000,\n",
      "          multi_class='ovr', penalty='l2', random_state=None, tol=0.001,\n",
      "          verbose=0), LinearSVC(C=1, class_weight=None, dual=False, fit_intercept=True,\n",
      "          intercept_scaling=1, loss='squared_hinge', max_iter=1000,\n",
      "          multi_class='ovr', penalty='l2', random_state=None, tol=0.001,\n",
      "          verbose=0), LinearSVC(C=1, class_weight=None, dual=False, fit_intercept=True,\n",
      "          intercept_scaling=1, loss='squared_hinge', max_iter=1000,\n",
      "          multi_class='ovr', penalty='l2', random_state=None, tol=0.001,\n",
      "          verbose=0)), 'test_precision_macro': array([0.79294659, 0.78961508, 0.79445712, 0.78399162, 0.77004353,\n",
      "       0.77188223, 0.78176199, 0.76877839, 0.73340399, 0.63429229]), 'train_precision_macro': array([0.8965925 , 0.89754161, 0.89740782, 0.89565381, 0.89832958,\n",
      "       0.89931278, 0.89896027, 0.9007795 , 0.90336254, 0.91039602]), 'test_precision_micro': array([0.80519093, 0.80453596, 0.80244703, 0.79021188, 0.78842137,\n",
      "       0.78334825, 0.79468815, 0.78364667, 0.75440167, 0.61414503]), 'train_precision_micro': array([0.89634935, 0.89665119, 0.89685013, 0.8977122 , 0.89827586,\n",
      "       0.89887268, 0.89791114, 0.89907162, 0.9020557 , 0.91269894]), 'test_recall_macro': array([0.78291365, 0.78314057, 0.78434699, 0.77528208, 0.76262763,\n",
      "       0.75768553, 0.7757344 , 0.76049979, 0.72322435, 0.57575983]), 'train_recall_macro': array([0.88147797, 0.88113357, 0.8815082 , 0.88204056, 0.88395618,\n",
      "       0.8837996 , 0.88241436, 0.88531094, 0.88822008, 0.9012714 ]), 'test_recall_micro': array([0.80519093, 0.80453596, 0.80244703, 0.79021188, 0.78842137,\n",
      "       0.78334825, 0.79468815, 0.78364667, 0.75440167, 0.61414503]), 'train_recall_micro': array([0.89634935, 0.89665119, 0.89685013, 0.8977122 , 0.89827586,\n",
      "       0.89887268, 0.89791114, 0.89907162, 0.9020557 , 0.91269894])}\n"
     ]
    }
   ],
   "source": [
    "from sklearn.model_selection import cross_validate\n",
    "\n",
    "def min_ref_pipeline(df, min_references, stemmed=False):\n",
    "    pm_count = df.groupby(by=['cell_id'])['cell_id'].count()\n",
    "    df = df[df.cell_id.isin(pm_count[pm_count >= min_references].index)]\n",
    "    df = df[df.cell_id.isin(pm_count[pm_count < 500].index)]\n",
    "    print(df.shape[0], 'abstracts in corpus')\n",
    "    pm_count = df.groupby(by=['cell_id'])['cell_id'].count()\n",
    "    print(pm_count.shape[0], 'cell lines')\n",
    "    print('Every cell line has at least', min(pm_count), 'documents')\n",
    "\n",
    "    if stemmed:\n",
    "        stemmer = PorterStemmer()\n",
    "        stemmed_corpus = list()\n",
    "        for doc in df['document']:\n",
    "            doc = doc.replace('.', '').replace(',', '').replace(';', '').replace(':', '')\n",
    "            stemmed_corpus.append(' '.join([stemmer.stem(x) for x in doc.split()]))\n",
    "        corpus = stemmed_corpus\n",
    "    else:\n",
    "        corpus = df['document']\n",
    "\n",
    "    vectorizer = TfidfVectorizer(sublinear_tf=True, max_df=1.0, min_df=2, strip_accents='ascii', stop_words='english',\n",
    "                                 token_pattern=u'(?ui)\\\\b\\\\w*[a-z]+\\\\w*\\\\b')\n",
    "    dtm = vectorizer.fit_transform(corpus)\n",
    "    print('DTM shape:', dtm.shape)\n",
    "    wordfreq = dict(zip(vectorizer.get_feature_names(), vectorizer.idf_))\n",
    "    print('Top 20 words')\n",
    "    print(sorted(wordfreq.items(), key=lambda x: x[1])[:20])\n",
    "    reference_vocab = vectorizer.get_feature_names()\n",
    "    print(len(reference_vocab), 'words')\n",
    "\n",
    "    X, y = dtm, df['cell_id']\n",
    "    clf = LinearSVC(penalty='l2', multi_class='ovr', random_state=42)\n",
    "    X_new = SelectFromModel(estimator=clf, threshold='median').fit_transform(X, y)\n",
    "    print(X.shape, X_new.shape)\n",
    "\n",
    "    clf = LinearSVC(penalty=\"l2\", dual=False, tol=1e-3, multi_class='ovr', C=1)\n",
    "    print('=' * 80)\n",
    "\n",
    "    scoring = ['precision_macro', 'precision_micro', 'recall_macro', 'recall_micro']\n",
    "    results = cross_validate(estimator=clf, X=X_new, y=y, cv=10, n_jobs=-1, verbose=0,\n",
    "                             return_estimator=True, return_train_score=True, scoring=scoring, groups=df['cell_id'])\n",
    "    print(results)\n",
    "    return {'clf': clf, 'results': results, 'pm_count': pm_count}\n",
    "\n",
    "\n",
    "for min_ref in [10, 20, 30, 40, 50, 60, 70, 80, 90, 100]:\n",
    "    print('_'*80)\n",
    "    print(min_ref, 'minimum references')\n",
    "    results_min_ref[min_ref] = min_ref_pipeline(reference_df, min_references=min_ref, stemmed=False)\n"
   ]
  },
  {
   "cell_type": "code",
   "execution_count": 7,
   "metadata": {},
   "outputs": [
    {
     "data": {
      "image/png": "[encoded data removed]",
      "text/plain": [
       "<Figure size 720x432 with 1 Axes>"
      ]
     },
     "metadata": {
      "needs_background": "light"
     },
     "output_type": "display_data"
    },
    {
     "data": {
      "image/png": "[encoded data removed]",
      "text/plain": [
       "<Figure size 720x432 with 1 Axes>"
      ]
     },
     "metadata": {
      "needs_background": "light"
     },
     "output_type": "display_data"
    }
   ],
   "source": [
    "import matplotlib.pyplot as plt\n",
    "\n",
    "x = sorted(list(results_min_ref.keys()))\n",
    "y = [len(results_min_ref[min_ref]['pm_count']) for min_ref in results_min_ref.keys()]\n",
    "min_ref_pd = pd.DataFrame(data={'Minimum number of documents': x, 'Number of cell lines': y})\n",
    "plt.figure(figsize=(10, 6))\n",
    "plt.ylabel('Number of cell lines')\n",
    "plt.xlabel('Minimum number of documents')\n",
    "plt.scatter(x, y, linestyle='None', marker='x')\n",
    "plt.savefig('data/img/min_ref.png')\n",
    "plt.show()\n",
    "plt.close()\n",
    "\n",
    "plt.figure(figsize=(10, 6))\n",
    "plt.ylabel('Averaged Micro Precision')\n",
    "plt.xlabel('Minimum number of documents')\n",
    "\n",
    "import numpy as np\n",
    "\n",
    "x = sorted(list(results_min_ref.keys()))\n",
    "y = [np.average(results_min_ref[min_ref]['results']['train_precision_micro']) for min_ref in x]\n",
    "e = [np.std(results_min_ref[min_ref]['results']['train_precision_micro']) for min_ref in x]\n",
    "plt.errorbar(x, y, e, linestyle='None', marker=markers[i], label='Train dataset', capsize=3)\n",
    "\n",
    "y = [np.average(results_min_ref[min_ref]['results']['test_precision_micro']) for min_ref in x]\n",
    "e = [np.std(results_min_ref[min_ref]['results']['test_precision_micro']) for min_ref in x]\n",
    "plt.errorbar(x, y, e, linestyle='None', marker=markers[i], label='Test dataset', capsize=3)\n",
    "\n",
    "plt.ylim(0, 1)\n",
    "plt.legend(loc='upper left')\n",
    "plt.savefig('data/img/precision_min_ref.png')\n",
    "plt.show()\n",
    "plt.close()"
   ]
  },
  {
   "cell_type": "markdown",
   "source": [
    "Now we define a pipeline for calculating Micro-Averaged precision varying the variance threshold for feature selection.\n",
    "We plot micro-averaged precision for Non-Stemmed corpus.\n"
   ],
   "metadata": {
    "collapsed": false
   }
  },
  {
   "cell_type": "code",
   "execution_count": null,
   "outputs": [],
   "source": [
    "from sklearn.svm import LinearSVC\n",
    "\n",
    "def min_threshold_pipeline(df, min_references, stemmed=False):\n",
    "    pm_count = df.groupby(by=['cell_id'])['cell_id'].count()\n",
    "    df = df[df.cell_id.isin(pm_count[pm_count >= min_references].index)]\n",
    "    df = df[df.cell_id.isin(pm_count[pm_count < 500].index)]\n",
    "    print(df.shape[0], 'abstracts in corpus')\n",
    "    pm_count = df.groupby(by=['cell_id'])['cell_id'].count()\n",
    "    print(pm_count.shape[0], 'cell lines')\n",
    "    print('Every cell line has at least', min(pm_count), 'documents')\n",
    "\n",
    "    if stemmed:\n",
    "        stemmer = PorterStemmer()\n",
    "        stemmed_corpus = list()\n",
    "        for doc in df['document']:\n",
    "            doc = doc.replace('.', '').replace(',', '').replace(';', '').replace(':', '')\n",
    "            stemmed_corpus.append(' '.join([stemmer.stem(x) for x in doc.split()]))\n",
    "        corpus = stemmed_corpus\n",
    "    else:\n",
    "        corpus = df['document']\n",
    "\n",
    "    vectorizer = TfidfVectorizer(sublinear_tf=True, max_df=1.0, min_df=2, strip_accents='ascii', stop_words='english',\n",
    "                                 token_pattern=u'(?ui)\\\\b\\\\w*[a-z]+\\\\w*\\\\b')\n",
    "    dtm = vectorizer.fit_transform(corpus)\n",
    "    print('DTM shape:', dtm.shape)\n",
    "    wordfreq = dict(zip(vectorizer.get_feature_names(), vectorizer.idf_))\n",
    "    print('Top 20 words')\n",
    "    print(sorted(wordfreq.items(), key=lambda x: x[1])[:20])\n",
    "    reference_vocab = vectorizer.get_feature_names()\n",
    "    print(len(reference_vocab), 'words')\n",
    "\n",
    "    X, y = dtm, df['cell_id']\n",
    "    clf = LinearSVC(penalty='l2', multi_class='ovr', random_state=42)\n",
    "    thresholds = ['0.5*median', 'median', '1.5*median', '2*median']\n",
    "    results = dict()\n",
    "    for threshold in thresholds:\n",
    "        print(threshold)\n",
    "        X_new = SelectFromModel(estimator=clf, threshold=threshold).fit_transform(X, y)\n",
    "        print(X.shape, X_new.shape)\n",
    "\n",
    "        clf = LinearSVC(penalty=\"l2\", dual=False, tol=1e-3, multi_class='ovr', C=1)\n",
    "        print('=' * 80)\n",
    "\n",
    "        scoring = ['precision_macro', 'precision_micro', 'recall_macro', 'recall_micro']\n",
    "        results[threshold] = cross_validate(estimator=clf, X=X_new, y=y, cv=10, n_jobs=-1, verbose=0,\n",
    "                                 return_estimator=True, return_train_score=True, scoring=scoring, groups=df['cell_id'])\n",
    "    return {'results': results}\n",
    "\n",
    "\n",
    "results_min_ref_ = dict()\n",
    "for min_ref in [60, 70, 80, 90, 100]:\n",
    "    print('_'*80)\n",
    "    print(min_ref, 'minimum references')\n",
    "    results_min_ref_[min_ref] = min_threshold_pipeline(reference_df, min_references=min_ref, stemmed=False)\n"
   ],
   "metadata": {
    "collapsed": false,
    "pycharm": {
     "name": "#%%\n"
    }
   }
  },
  {
   "cell_type": "code",
   "execution_count": null,
   "outputs": [],
   "source": [
    "import matplotlib.pyplot as plt\n",
    "    \n",
    "plt.figure(figsize=(8, 6))\n",
    "plt.ylabel('Averaged Micro Precision')\n",
    "plt.xlabel('Minimum number of documents')\n",
    "markers = ['^', '.', 'v', 's']\n",
    "thresholds = ['0.5*median', 'median', '1.5*median', '2*median']\n",
    "labels = [' (threshold = 0.5*median)', ' (threshold = median)', ' (threshold = 1.5*median)', ' (threshold = 2*median)']\n",
    "\n",
    "x = sorted(list(results_min_ref_.keys()))\n",
    "for i in range(4):\n",
    "    y = [np.average(results_min_ref_[min_ref]['results'][thresholds[i]]['train_precision_micro']) for min_ref in x]\n",
    "    e = [np.std(results_min_ref_[min_ref]['results'][thresholds[i]]['train_precision_micro']) for min_ref in x]\n",
    "    plt.errorbar(x, y, e, linestyle='None', marker='^', label='Train dataset'+labels[i], capsize=3)\n",
    "\n",
    "    y = [np.average(results_min_ref_[min_ref]['results'][thresholds[i]]['test_precision_micro']) for min_ref in x]\n",
    "    e = [np.std(results_min_ref_[min_ref]['results'][thresholds[i]]['test_precision_micro']) for min_ref in x]\n",
    "    plt.errorbar(x, y, e, linestyle='None', marker='o', label='Test dataset'+labels[i], capsize=3)\n",
    "\n",
    "plt.ylim(0.2, 1)\n",
    "plt.legend(loc='lower left')\n",
    "\n",
    "plt.savefig('data/img/precision_min_ref_threshold.png')\n",
    "plt.show()\n",
    "plt.close()"
   ],
   "metadata": {
    "collapsed": false,
    "pycharm": {
     "name": "#%%\n"
    }
   }
  },
  {
   "cell_type": "markdown",
   "source": [
    "Now we can select the estimator for a given Minimum Reference threshold and obtain its support vector coefficients"
   ],
   "metadata": {
    "collapsed": false
   }
  },
  {
   "cell_type": "code",
   "execution_count": null,
   "outputs": [],
   "source": [
    "clf = results_min_ref_[60]['results']['0.5*median']['estimator'][0].densify()\n",
    "coef = clf.coef_\n",
    "print('Coefficient matrix of shape:',coef.shape)\n",
    "print('Coefficient matrix sample:')\n",
    "print(coef[:10,:10])"
   ],
   "metadata": {
    "collapsed": false,
    "pycharm": {
     "name": "#%%\n"
    }
   }
  },
  {
   "cell_type": "code",
   "execution_count": null,
   "outputs": [],
   "source": [],
   "metadata": {
    "collapsed": false,
    "pycharm": {
     "name": "#%%\n"
    }
   }
  },
  {
   "cell_type": "markdown",
   "metadata": {},
   "source": []
  },
  {
   "cell_type": "code",
   "execution_count": 8,
   "metadata": {
    "pycharm": {
     "name": "#%%\n"
    }
   },
   "outputs": [
    {
     "name": "stdout",
     "output_type": "stream",
     "text": [
      "________________________________________________________________________________\n",
      "60 minimum references\n",
      "39883 abstracts in corpus\n",
      "225 cell lines\n",
      "Every cell line has at least 60 documents\n",
      "DTM shape: (39883, 51005)\n",
      "Top 20 words\n",
      "[('cell', 1.0141910822812474), ('line', 1.0459709546347469), ('cells', 1.2287756691891063), ('human', 1.6468482850933666), ('expression', 1.763781870747426), ('results', 1.7786917405976688), ('study', 1.962248560479329), ('lines', 2.0209717294067024), ('protein', 2.064209408461349), ('using', 2.116650852540645), ('induced', 2.1808575505624157), ('cancer', 2.1928524364072057), ('activity', 2.2655182273776115), ('showed', 2.300981011731783), ('effect', 2.3202275730148605), ('vitro', 2.354997073471283), ('used', 2.3614329806204584), ('gene', 2.370868867418829), ('tumor', 2.383990328044533), ('treatment', 2.394855626081779)]\n",
      "51005 words\n",
      "0.5*median\n",
      "(39883, 51005) (39883, 37736)\n",
      "================================================================================\n",
      "median\n",
      "(39883, 51005) (39883, 25503)\n",
      "================================================================================\n",
      "1.5*median\n",
      "(39883, 51005) (39883, 19103)\n",
      "================================================================================\n",
      "2*median\n",
      "(39883, 51005) (39883, 15510)\n",
      "================================================================================\n",
      "________________________________________________________________________________\n",
      "70 minimum references\n",
      "38003 abstracts in corpus\n",
      "196 cell lines\n",
      "Every cell line has at least 71 documents\n",
      "DTM shape: (38003, 49771)\n",
      "Top 20 words\n",
      "[('cell', 1.0137505643894777), ('line', 1.043177589266288), ('cells', 1.2252244434241168), ('human', 1.6531717710046152), ('expression', 1.7609116129678055), ('results', 1.7776643259558873), ('study', 1.9579035259602646), ('lines', 2.0398281752770484), ('protein', 2.058308268500755), ('using', 2.116131449908467), ('induced', 2.1727324053661987), ('cancer', 2.2114737639051825), ('activity', 2.2606484134324476), ('showed', 2.3009947947216896), ('effect', 2.318150883701044), ('vitro', 2.355411077690822), ('used', 2.361142338901299), ('gene', 2.369283776152044), ('tumor', 2.3898793501977487), ('treatment', 2.394856328756231)]\n",
      "49771 words\n",
      "0.5*median\n",
      "(38003, 49771) (38003, 36884)\n",
      "================================================================================\n",
      "median\n",
      "(38003, 49771) (38003, 24886)\n",
      "================================================================================\n",
      "1.5*median\n",
      "(38003, 49771) (38003, 18641)\n",
      "================================================================================\n",
      "2*median\n",
      "(38003, 49771) (38003, 15051)\n",
      "================================================================================\n",
      "________________________________________________________________________________\n",
      "80 minimum references\n",
      "36406 abstracts in corpus\n",
      "175 cell lines\n",
      "Every cell line has at least 80 documents\n",
      "DTM shape: (36406, 48592)\n",
      "Top 20 words\n",
      "[('cell', 1.0137174085997203), ('line', 1.042045034545184), ('cells', 1.22519195764227), ('human', 1.6520604368440632), ('expression', 1.7601956930138154), ('results', 1.7743350121923074), ('study', 1.9517117129614525), ('lines', 2.050956772810763), ('protein', 2.057736459796142), ('using', 2.114280863011162), ('induced', 2.1645746262584815), ('cancer', 2.2081105957345355), ('activity', 2.2544949038845146), ('showed', 2.2980934446162404), ('effect', 2.314114878370957), ('vitro', 2.353732276551309), ('used', 2.3634571728571667), ('gene', 2.372302015331488), ('treatment', 2.3879162431330387), ('tumor', 2.3903402196394343)]\n",
      "48592 words\n",
      "0.5*median\n",
      "(36406, 48592) (36406, 36032)\n",
      "================================================================================\n",
      "median\n",
      "(36406, 48592) (36406, 24296)\n",
      "================================================================================\n",
      "1.5*median\n",
      "(36406, 48592) (36406, 18187)\n",
      "================================================================================\n",
      "2*median\n",
      "(36406, 48592) (36406, 14638)\n",
      "================================================================================\n",
      "________________________________________________________________________________\n",
      "90 minimum references\n",
      "34637 abstracts in corpus\n",
      "154 cell lines\n",
      "Every cell line has at least 91 documents\n",
      "DTM shape: (34637, 47225)\n",
      "Top 20 words\n",
      "[('cell', 1.013281411172015), ('line', 1.0402050880161373), ('cells', 1.2228332466719438), ('human', 1.653358111494006), ('expression', 1.760928245441407), ('results', 1.771238255405361), ('study', 1.9511155549839998), ('lines', 2.0598780427395305), ('protein', 2.0617962285576574), ('using', 2.1145888823709793), ('induced', 2.1613394136704325), ('cancer', 2.2148483662760667), ('activity', 2.2526186287771575), ('showed', 2.2983018846431094), ('effect', 2.3101099043993254), ('vitro', 2.3489497377155892), ('used', 2.3606994392746703), ('gene', 2.3741848269336536), ('treatment', 2.3877389053285585), ('increased', 2.3948183755044825)]\n",
      "47225 words\n",
      "0.5*median\n",
      "(34637, 47225) (34637, 35065)\n",
      "================================================================================\n",
      "median\n",
      "(34637, 47225) (34637, 23613)\n",
      "================================================================================\n",
      "1.5*median\n",
      "(34637, 47225) (34637, 17615)\n",
      "================================================================================\n",
      "2*median\n",
      "(34637, 47225) (34637, 14192)\n",
      "================================================================================\n",
      "________________________________________________________________________________\n",
      "100 minimum references\n",
      "33511 abstracts in corpus\n",
      "142 cell lines\n",
      "Every cell line has at least 100 documents\n",
      "DTM shape: (33511, 46332)\n",
      "Top 20 words\n",
      "[('cell', 1.0132468182210095), ('line', 1.039875021221987), ('cells', 1.2232405362032939), ('human', 1.6509034232917843), ('expression', 1.7656588367445547), ('results', 1.771321657540039), ('study', 1.9522760543310191), ('lines', 2.0611571396701676), ('protein', 2.065218146676931), ('using', 2.1172864052041946), ('induced', 2.162339489456693), ('cancer', 2.218258332220162), ('activity', 2.248371217914389), ('showed', 2.2958572520679263), ('effect', 2.3122375446585295), ('vitro', 2.3492704510781337), ('used', 2.360373965570644), ('gene', 2.373250182333052), ('treatment', 2.3904807197247964), ('tumor', 2.3907204703852587)]\n",
      "46332 words\n",
      "0.5*median\n",
      "(33511, 46332) (33511, 34449)\n",
      "================================================================================\n",
      "median\n",
      "(33511, 46332) (33511, 23166)\n",
      "================================================================================\n",
      "1.5*median\n",
      "(33511, 46332) (33511, 17284)\n",
      "================================================================================\n",
      "2*median\n",
      "(33511, 46332) (33511, 13898)\n",
      "================================================================================\n"
     ]
    }
   ],
   "source": [
    "from sklearn.svm import LinearSVC\n",
    "\n",
    "def min_threshold_pipeline(df, min_references, stemmed=False):\n",
    "    pm_count = df.groupby(by=['cell_id'])['cell_id'].count()\n",
    "    df = df[df.cell_id.isin(pm_count[pm_count >= min_references].index)]\n",
    "    df = df[df.cell_id.isin(pm_count[pm_count < 500].index)]\n",
    "    print(df.shape[0], 'abstracts in corpus')\n",
    "    pm_count = df.groupby(by=['cell_id'])['cell_id'].count()\n",
    "    print(pm_count.shape[0], 'cell lines')\n",
    "    print('Every cell line has at least', min(pm_count), 'documents')\n",
    "\n",
    "    if stemmed:\n",
    "        stemmer = PorterStemmer()\n",
    "        stemmed_corpus = list()\n",
    "        for doc in df['document']:\n",
    "            doc = doc.replace('.', '').replace(',', '').replace(';', '').replace(':', '')\n",
    "            stemmed_corpus.append(' '.join([stemmer.stem(x) for x in doc.split()]))\n",
    "        corpus = stemmed_corpus\n",
    "    else:\n",
    "        corpus = df['document']\n",
    "\n",
    "    vectorizer = TfidfVectorizer(sublinear_tf=True, max_df=1.0, min_df=2, strip_accents='ascii', stop_words='english',\n",
    "                                 token_pattern=u'(?ui)\\\\b\\\\w*[a-z]+\\\\w*\\\\b')\n",
    "    dtm = vectorizer.fit_transform(corpus)\n",
    "    print('DTM shape:', dtm.shape)\n",
    "    wordfreq = dict(zip(vectorizer.get_feature_names(), vectorizer.idf_))\n",
    "    print('Top 20 words')\n",
    "    print(sorted(wordfreq.items(), key=lambda x: x[1])[:20])\n",
    "    reference_vocab = vectorizer.get_feature_names()\n",
    "    print(len(reference_vocab), 'words')\n",
    "\n",
    "    X, y = dtm, df['cell_id']\n",
    "    clf = LinearSVC(penalty='l2', multi_class='ovr', random_state=42)\n",
    "    thresholds = ['0.5*median', 'median', '1.5*median', '2*median']\n",
    "    results = dict()\n",
    "    for threshold in thresholds:\n",
    "        print(threshold)\n",
    "        X_new = SelectFromModel(estimator=clf, threshold=threshold).fit_transform(X, y)\n",
    "        print(X.shape, X_new.shape)\n",
    "\n",
    "        clf = LinearSVC(penalty=\"l2\", dual=False, tol=1e-3, multi_class='ovr', C=1)\n",
    "        print('=' * 80)\n",
    "\n",
    "        scoring = ['precision_macro', 'precision_micro', 'recall_macro', 'recall_micro']\n",
    "        results[threshold] = cross_validate(estimator=clf, X=X_new, y=y, cv=10, n_jobs=-1, verbose=0,\n",
    "                                 return_estimator=True, return_train_score=True, scoring=scoring, groups=df['cell_id'])\n",
    "    return {'results': results}\n",
    "\n",
    "\n",
    "results_min_ref_ = dict()\n",
    "for min_ref in [60, 70, 80, 90, 100]:\n",
    "    print('_'*80)\n",
    "    print(min_ref, 'minimum references')\n",
    "    results_min_ref_[min_ref] = min_threshold_pipeline(reference_df, min_references=min_ref, stemmed=False)\n"
   ]
  },
  {
   "cell_type": "code",
   "execution_count": 11,
   "metadata": {},
   "outputs": [
    {
     "data": {
      "image/png": "[encoded data removed]",
      "text/plain": [
       "<Figure size 576x432 with 1 Axes>"
      ]
     },
     "metadata": {
      "needs_background": "light"
     },
     "output_type": "display_data"
    }
   ],
   "source": [
    "import matplotlib.pyplot as plt\n",
    "    \n",
    "plt.figure(figsize=(8, 6))\n",
    "plt.ylabel('Averaged Micro Precision')\n",
    "plt.xlabel('Minimum number of documents')\n",
    "markers = ['^', '.', 'v', 's']\n",
    "thresholds = ['0.5*median', 'median', '1.5*median', '2*median']\n",
    "labels = [' (threshold = 0.5*median)', ' (threshold = median)', ' (threshold = 1.5*median)', ' (threshold = 2*median)']\n",
    "\n",
    "x = sorted(list(results_min_ref_.keys()))\n",
    "for i in range(4):\n",
    "    y = [np.average(results_min_ref_[min_ref]['results'][thresholds[i]]['train_precision_micro']) for min_ref in x]\n",
    "    e = [np.std(results_min_ref_[min_ref]['results'][thresholds[i]]['train_precision_micro']) for min_ref in x]\n",
    "    plt.errorbar(x, y, e, linestyle='None', marker='^', label='Train dataset'+labels[i], capsize=3)\n",
    "\n",
    "    y = [np.average(results_min_ref_[min_ref]['results'][thresholds[i]]['test_precision_micro']) for min_ref in x]\n",
    "    e = [np.std(results_min_ref_[min_ref]['results'][thresholds[i]]['test_precision_micro']) for min_ref in x]\n",
    "    plt.errorbar(x, y, e, linestyle='None', marker='o', label='Test dataset'+labels[i], capsize=3)\n",
    "\n",
    "plt.ylim(0.2, 1)\n",
    "plt.legend(loc='lower left')\n",
    "\n",
    "plt.savefig('data/img/precision_min_ref_threshold.png')\n",
    "plt.show()\n",
    "plt.close()"
   ]
  },
  {
   "cell_type": "markdown",
   "metadata": {},
   "source": [
    "Now we can select the estimator for a given Minimum Reference threshold and obtain its support vector coefficients"
   ]
  },
  {
   "cell_type": "code",
   "execution_count": 27,
   "metadata": {},
   "outputs": [
    {
     "name": "stdout",
     "output_type": "stream",
     "text": [
      "Coefficient matrix of shape: (225, 37736)\n",
      "Coefficient matrix sample:\n",
      "[[ 3.86992274e-06 -1.34404404e-06 -1.14643956e-06 -3.37848733e-07\n",
      "   1.53306293e-06  4.95061511e-06 -2.83619281e-03  7.47298721e-07\n",
      "  -1.40228684e-03 -2.25414802e-06]\n",
      " [ 8.23552185e-06 -1.77798879e-06  1.50249472e-06 -2.44670545e-03\n",
      "   1.75971211e-05 -3.91343300e-06 -6.80927882e-06  3.73953004e-06\n",
      "  -5.54817113e-07 -1.51898251e-06]\n",
      " [ 1.91871295e-06  1.74824808e-01 -3.52981251e-05  3.41311658e-06\n",
      "  -8.64366832e-07 -4.14482172e-02  1.90386968e-01 -3.36898188e-06\n",
      "  -6.24583636e-03  4.55941563e-07]\n",
      " [-3.74379079e-07 -1.82612763e-03 -3.23543359e-02  4.61256168e-07\n",
      "   2.71723595e-07 -1.02223007e-07 -1.85970220e-07 -4.63673616e-07\n",
      "   1.20553420e-07 -1.44120221e-05]\n",
      " [-2.86025648e-07 -7.82695844e-07 -4.14256818e-08  6.70667003e-08\n",
      "   6.91201829e-08 -2.40642191e-08 -2.69487846e-07 -7.98861616e-08\n",
      "  -1.31467911e-07 -7.48376613e-09]\n",
      " [-2.03005289e-05  2.69861659e-06 -4.66084605e-06 -4.56256059e-07\n",
      "  -8.44341859e-07 -1.18585555e-05 -1.25904585e-05  4.39468755e-06\n",
      "  -2.46135809e-06 -8.04969695e-06]\n",
      " [-4.80161859e-05  1.62563122e-05 -6.27158495e-06  1.41094775e-04\n",
      "  -2.03591186e-06 -3.70635062e-05 -1.79614058e-04 -4.40234232e-05\n",
      "  -2.45355622e-05 -1.22603696e-05]\n",
      " [ 1.58202150e-07  5.01410044e-07  5.21887783e-07 -5.99877683e-08\n",
      "   1.00443511e-07 -2.21786859e-07 -3.97243065e-07  6.25702008e-08\n",
      "  -4.44143357e-07 -5.06472261e-06]\n",
      " [-5.61093317e-06  3.64633605e-06  4.56551049e-06 -2.59989234e-06\n",
      "  -4.69525363e-07 -1.29362073e-03 -1.32648158e-05 -4.99421806e-07\n",
      "  -7.54096434e-06 -3.15897919e-07]\n",
      " [-4.66171721e-06 -7.49575605e-07 -7.04005861e-03  2.04168598e-07\n",
      "  -1.16044217e-02  1.12029767e-06  4.42022057e-05 -2.46023375e-06\n",
      "   1.35109023e-06  1.24424396e-06]]\n"
     ]
    }
   ],
   "source": [
    "clf = results_min_ref_[60]['results']['0.5*median']['estimator'][0].densify()\n",
    "coef = clf.coef_\n",
    "print('Coefficient matrix of shape:',coef.shape)\n",
    "print('Coefficient matrix sample:')\n",
    "print(coef[:10,:10])"
   ]
  },
  {
   "cell_type": "code",
   "execution_count": null,
   "metadata": {},
   "outputs": [],
   "source": []
  }
 ],
 "metadata": {
  "kernelspec": {
   "display_name": "Python 3",
   "language": "python",
   "name": "python3"
  },
  "language_info": {
   "codemirror_mode": {
    "name": "ipython",
    "version": 3
   },
   "file_extension": ".py",
   "mimetype": "text/x-python",
   "name": "python",
   "nbconvert_exporter": "python",
   "pygments_lexer": "ipython3",
   "version": "3.7.6"
  }
 },
 "nbformat": 4,
 "nbformat_minor": 1
}